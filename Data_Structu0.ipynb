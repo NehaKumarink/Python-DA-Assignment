{
  "nbformat": 4,
  "nbformat_minor": 0,
  "metadata": {
    "colab": {
      "provenance": [],
      "authorship_tag": "ABX9TyN7250byTqm/zFNMI8D8oC5",
      "include_colab_link": true
    },
    "kernelspec": {
      "name": "python3",
      "display_name": "Python 3"
    },
    "language_info": {
      "name": "python"
    }
  },
  "cells": [
    {
      "cell_type": "markdown",
      "metadata": {
        "id": "view-in-github",
        "colab_type": "text"
      },
      "source": [
        "<a href=\"https://colab.research.google.com/github/NehaKumarink/Python-DA-Assignment/blob/main/Data_Structu0.ipynb\" target=\"_parent\"><img src=\"https://colab.research.google.com/assets/colab-badge.svg\" alt=\"Open In Colab\"/></a>"
      ]
    },
    {
      "cell_type": "markdown",
      "source": [
        "**Q1) Write a code to reverse a string?**"
      ],
      "metadata": {
        "id": "gx_hOIkVYVbd"
      }
    },
    {
      "cell_type": "code",
      "source": [
        "def reverse_string(s):\n",
        "    return s[::-1]\n",
        "\n",
        "# Example usage\n",
        "input_string = \"Hello, World!\"\n",
        "reversed_string = reverse_string(input_string)\n",
        "print(\"Original String:\", input_string)\n",
        "print(\"Reversed String:\", reversed_string)"
      ],
      "metadata": {
        "colab": {
          "base_uri": "https://localhost:8080/"
        },
        "id": "v2byi3NxYiI1",
        "outputId": "7e7d8244-22ae-4add-da3a-21adc7f5d8f3"
      },
      "execution_count": null,
      "outputs": [
        {
          "output_type": "stream",
          "name": "stdout",
          "text": [
            "Original String: Hello, World!\n",
            "Reversed String: !dlroW ,olleH\n"
          ]
        }
      ]
    },
    {
      "cell_type": "markdown",
      "source": [
        " Q2) Write a code to count the number of vowels in a string ?"
      ],
      "metadata": {
        "id": "n99IKvbRYotq"
      }
    },
    {
      "cell_type": "code",
      "source": [
        "def count_vowels(s):\n",
        "    vowels = \"aeiouAEIOU\"  # Define vowels (both uppercase and lowercase)\n",
        "    count = 0\n",
        "    for char in s:\n",
        "        if char in vowels:\n",
        "            count += 1\n",
        "    return count\n",
        "\n",
        "# Example usage\n",
        "input_string = \"Hello, World!\"\n",
        "vowel_count = count_vowels(input_string)\n",
        "print(\"Input String:\", input_string)\n",
        "print(\"Number of Vowels:\", vowel_count)"
      ],
      "metadata": {
        "colab": {
          "base_uri": "https://localhost:8080/"
        },
        "id": "PpK1axe0Y0-L",
        "outputId": "9b64fa30-b348-4bd2-9871-aaa52c4e20f7"
      },
      "execution_count": null,
      "outputs": [
        {
          "output_type": "stream",
          "name": "stdout",
          "text": [
            "Input String: Hello, World!\n",
            "Number of Vowels: 3\n"
          ]
        }
      ]
    },
    {
      "cell_type": "markdown",
      "source": [
        "Q3) Write a code to check if a given string is a palindrome or not?"
      ],
      "metadata": {
        "id": "8S9V4aCqY4oQ"
      }
    },
    {
      "cell_type": "code",
      "source": [
        "def is_palindrome(s):\n",
        "    # Normalize the string by converting to lowercase and removing non-alphanumeric characters\n",
        "    normalized = ''.join(char.lower() for char in s if char.isalnum())\n",
        "    # Check if the normalized string is equal to its reverse\n",
        "    return normalized == normalized[::-1]\n",
        "\n",
        "# Example usage\n",
        "input_string = \"A man, a plan, a canal, Panama\"\n",
        "if is_palindrome(input_string):\n",
        "    print(f'\"{input_string}\" is a palindrome.')\n",
        "else:\n",
        "    print(f'\"{input_string}\" is not a palindrome.')"
      ],
      "metadata": {
        "colab": {
          "base_uri": "https://localhost:8080/"
        },
        "id": "c9bX0_JeZD7O",
        "outputId": "6b0345dc-c8b5-4f58-8a9a-aea9b9db045d"
      },
      "execution_count": null,
      "outputs": [
        {
          "output_type": "stream",
          "name": "stdout",
          "text": [
            "\"A man, a plan, a canal, Panama\" is a palindrome.\n"
          ]
        }
      ]
    },
    {
      "cell_type": "markdown",
      "source": [
        "Q4) Write a code to check if two given strings are anagrams of each other?"
      ],
      "metadata": {
        "id": "OLkFFODAZHqc"
      }
    },
    {
      "cell_type": "code",
      "source": [
        "def are_anagrams(str1, str2):\n",
        "    # Normalize the strings by removing spaces, converting to lowercase, and sorting\n",
        "    normalized_str1 = sorted(str1.replace(\" \", \"\").lower())\n",
        "    normalized_str2 = sorted(str2.replace(\" \", \"\").lower())\n",
        "    # Compare the sorted versions of the strings\n",
        "    return normalized_str1 == normalized_str2\n",
        "\n",
        "# Example usage\n",
        "string1 = \"listen\"\n",
        "string2 = \"silent\"\n",
        "if are_anagrams(string1, string2):\n",
        "    print(f'\"{string1}\" and \"{string2}\" are anagrams.')\n",
        "else:\n",
        "    print(f'\"{string1}\" and \"{string2}\" are not anagrams.')"
      ],
      "metadata": {
        "colab": {
          "base_uri": "https://localhost:8080/"
        },
        "id": "PMR-ICZHZZFn",
        "outputId": "98a4c5f8-c8e0-487e-f662-7e465901591a"
      },
      "execution_count": null,
      "outputs": [
        {
          "output_type": "stream",
          "name": "stdout",
          "text": [
            "\"listen\" and \"silent\" are anagrams.\n"
          ]
        }
      ]
    },
    {
      "cell_type": "markdown",
      "source": [
        "Q5)Write a code to find all occurrences of a given substring within another string?"
      ],
      "metadata": {
        "id": "ckx8Hl1HZeRz"
      }
    },
    {
      "cell_type": "code",
      "source": [
        "def find_all_occurrences(string, substring):\n",
        "    occurrences = []\n",
        "    start = 0\n",
        "    while True:\n",
        "        start = string.find(substring, start)  # Find the index of the substring\n",
        "        if start == -1:  # If no more occurrences, break the loop\n",
        "            break\n",
        "        occurrences.append(start)  # Add the index to the list\n",
        "        start += 1  # Move the start index forward to find overlapping occurrences\n",
        "    return occurrences\n",
        "\n",
        "# Example usage\n",
        "string = \"abracadabra\"\n",
        "substring = \"abra\"\n",
        "occurrences = find_all_occurrences(string, substring)\n",
        "print(f\"Occurrences of '{substring}' in '{string}': {occurrences}\")"
      ],
      "metadata": {
        "colab": {
          "base_uri": "https://localhost:8080/"
        },
        "id": "H45I16riZtMI",
        "outputId": "9e576c76-5c8d-4cb7-8194-db711ba73c73"
      },
      "execution_count": null,
      "outputs": [
        {
          "output_type": "stream",
          "name": "stdout",
          "text": [
            "Occurrences of 'abra' in 'abracadabra': [0, 7]\n"
          ]
        }
      ]
    },
    {
      "cell_type": "markdown",
      "source": [
        "Q6) Write a code to perform basic string compression using the counts of repeated characters?"
      ],
      "metadata": {
        "id": "IUlakp9zZzUV"
      }
    },
    {
      "cell_type": "code",
      "source": [
        "def compress_string(s):\n",
        "    compressed = []\n",
        "    count = 1\n",
        "\n",
        "    # Iterate through the string\n",
        "    for i in range(1, len(s)):\n",
        "        if s[i] == s[i - 1]:  # If the current character is the same as the previous one\n",
        "            count += 1\n",
        "        else:\n",
        "            # Append the character and its count to the compressed list\n",
        "            compressed.append(s[i - 1] + str(count))\n",
        "            count = 1  # Reset the count\n",
        "\n",
        "    # Add the last character and its count\n",
        "    if s:\n",
        "        compressed.append(s[-1] + str(count))\n",
        "\n",
        "    # Join the compressed parts and return the shorter of the original or compressed string\n",
        "    compressed_string = ''.join(compressed)\n",
        "    return compressed_string if len(compressed_string) < len(s) else s\n",
        "\n",
        "# Example usage\n",
        "input_string = \"aabcccccaaa\"\n",
        "compressed = compress_string(input_string)\n",
        "print(f\"Original String: {input_string}\")\n",
        "print(f\"Compressed String: {compressed}\")"
      ],
      "metadata": {
        "colab": {
          "base_uri": "https://localhost:8080/"
        },
        "id": "gEcrOW8eaGuY",
        "outputId": "7373bf7c-f4b5-4989-cf30-230afb2beac2"
      },
      "execution_count": null,
      "outputs": [
        {
          "output_type": "stream",
          "name": "stdout",
          "text": [
            "Original String: aabcccccaaa\n",
            "Compressed String: a2b1c5a3\n"
          ]
        }
      ]
    },
    {
      "cell_type": "markdown",
      "source": [
        "Q7)Write a code to determine if a string has all unique characters?"
      ],
      "metadata": {
        "id": "0E_1gGMLaJcH"
      }
    },
    {
      "cell_type": "code",
      "source": [
        "def has_unique_characters(s):\n",
        "    # Use a set to store seen characters\n",
        "    seen = set()\n",
        "    for char in s:\n",
        "        if char in seen:\n",
        "            return False  # Duplicate character found\n",
        "        seen.add(char)\n",
        "    return True  # All characters are unique\n",
        "\n",
        "# Example usage\n",
        "input_string = \"abcdefg\"\n",
        "result = has_unique_characters(input_string)\n",
        "print(f\"Does '{input_string}' have all unique characters? {result}\")"
      ],
      "metadata": {
        "colab": {
          "base_uri": "https://localhost:8080/"
        },
        "id": "WXFrsXcvaf5H",
        "outputId": "37323fb2-c62b-40fe-8ae0-4f34e63f8d36"
      },
      "execution_count": null,
      "outputs": [
        {
          "output_type": "stream",
          "name": "stdout",
          "text": [
            "Does 'abcdefg' have all unique characters? True\n"
          ]
        }
      ]
    },
    {
      "cell_type": "markdown",
      "source": [
        " Q8)Write a code to convert a given string to uppercase or lowercase?"
      ],
      "metadata": {
        "id": "qS3bYUxBaiko"
      }
    },
    {
      "cell_type": "code",
      "source": [
        "def convert_case(s, to_upper=True):\n",
        "    \"\"\"\n",
        "    Convert a string to uppercase or lowercase.\n",
        "\n",
        "    Parameters:\n",
        "        s (str): The input string.\n",
        "        to_upper (bool): If True, convert to uppercase; otherwise, convert to lowercase.\n",
        "\n",
        "    Returns:\n",
        "        str: The converted string.\n",
        "    \"\"\"\n",
        "    if to_upper:\n",
        "        return s.upper()  # Convert to uppercase\n",
        "    else:\n",
        "        return s.lower()  # Convert to lowercase\n",
        "\n",
        "# Example usage\n",
        "input_string = \"Hello, World!\"\n",
        "uppercase_string = convert_case(input_string, to_upper=True)\n",
        "lowercase_string = convert_case(input_string, to_upper=False)\n",
        "\n",
        "print(f\"Original String: {input_string}\")\n",
        "print(f\"Uppercase: {uppercase_string}\")\n",
        "print(f\"Lowercase: {lowercase_string}\")"
      ],
      "metadata": {
        "colab": {
          "base_uri": "https://localhost:8080/"
        },
        "id": "j-b4wAwIbA04",
        "outputId": "c7ec76e9-a30c-4b55-fb13-ce7da5da62e3"
      },
      "execution_count": null,
      "outputs": [
        {
          "output_type": "stream",
          "name": "stdout",
          "text": [
            "Original String: Hello, World!\n",
            "Uppercase: HELLO, WORLD!\n",
            "Lowercase: hello, world!\n"
          ]
        }
      ]
    },
    {
      "cell_type": "markdown",
      "source": [
        " Q9)Write a code to count the number of words in a string?"
      ],
      "metadata": {
        "id": "ulAjgL3obHc6"
      }
    },
    {
      "cell_type": "code",
      "source": [
        "def count_words(s):\n",
        "    # Split the string into words using whitespace as a delimiter\n",
        "    words = s.split()\n",
        "    return len(words)\n",
        "\n",
        "# Example usage\n",
        "input_string = \"Hello, how are you doing today?\"\n",
        "word_count = count_words(input_string)\n",
        "print(f\"Input String: '{input_string}'\")\n",
        "print(f\"Number of Words: {word_count}\")"
      ],
      "metadata": {
        "colab": {
          "base_uri": "https://localhost:8080/"
        },
        "id": "__c-k9bcbU9O",
        "outputId": "fb23b9e5-c0c0-4082-bdef-42b00711b3ac"
      },
      "execution_count": null,
      "outputs": [
        {
          "output_type": "stream",
          "name": "stdout",
          "text": [
            "Input String: 'Hello, how are you doing today?'\n",
            "Number of Words: 6\n"
          ]
        }
      ]
    },
    {
      "cell_type": "markdown",
      "source": [
        "Q10) Write a code to concatenate two strings without using the + operator?"
      ],
      "metadata": {
        "id": "tu6UyfvhbYjH"
      }
    },
    {
      "cell_type": "code",
      "source": [
        "def concatenate_strings(str1, str2):\n",
        "    # Use the join() method to concatenate strings\n",
        "    return \"\".join([str1, str2])\n",
        "\n",
        "# Example usage\n",
        "string1 = \"Hello\"\n",
        "string2 = \"World\"\n",
        "result = concatenate_strings(string1, string2)\n",
        "print(f\"Concatenated String: {result}\")"
      ],
      "metadata": {
        "colab": {
          "base_uri": "https://localhost:8080/"
        },
        "id": "yOdN16W1bkpm",
        "outputId": "8f1160cb-ecf1-40ab-cbdb-a71f780ee0d7"
      },
      "execution_count": null,
      "outputs": [
        {
          "output_type": "stream",
          "name": "stdout",
          "text": [
            "Concatenated String: HelloWorld\n"
          ]
        }
      ]
    },
    {
      "cell_type": "markdown",
      "source": [
        "Q11) Write a code to remove all occurrences of a specific element from a list?"
      ],
      "metadata": {
        "id": "BC3k1TvRbm6s"
      }
    },
    {
      "cell_type": "code",
      "source": [
        "def remove_element(lst, element):\n",
        "    # Use a list comprehension to create a new list without the element\n",
        "    return [item for item in lst if item != element]\n",
        "\n",
        "# Example usage\n",
        "my_list = [1, 2, 3, 4, 2, 5, 2]\n",
        "element_to_remove = 2\n",
        "updated_list = remove_element(my_list, element_to_remove)\n",
        "print(f\"Original List: {my_list}\")\n",
        "print(f\"Updated List: {updated_list}\")"
      ],
      "metadata": {
        "colab": {
          "base_uri": "https://localhost:8080/"
        },
        "id": "8Vl920m8bv5n",
        "outputId": "85b0908c-82e0-445e-c15b-8285b5e2abe6"
      },
      "execution_count": null,
      "outputs": [
        {
          "output_type": "stream",
          "name": "stdout",
          "text": [
            "Original List: [1, 2, 3, 4, 2, 5, 2]\n",
            "Updated List: [1, 3, 4, 5]\n"
          ]
        }
      ]
    },
    {
      "cell_type": "markdown",
      "source": [
        " Q12)Implement a code to find the second largest number in a given list of integers?"
      ],
      "metadata": {
        "id": "uPdUWz13cCPd"
      }
    },
    {
      "cell_type": "code",
      "source": [
        "def second_largest(nums):\n",
        "    # Check if the list has at least two distinct elements\n",
        "    if len(nums) < 2:\n",
        "        return None\n",
        "\n",
        "    # Initialize the first and second largest numbers\n",
        "    first, second = float('-inf'), float('-inf')\n",
        "\n",
        "    for num in nums:\n",
        "        if num > first:\n",
        "            second = first\n",
        "            first = num\n",
        "        elif num > second and num != first:\n",
        "            second = num\n",
        "\n",
        "    return second if second != float('-inf') else None  # Return None if there is no second largest number\n",
        "\n",
        "# Example usage\n",
        "numbers = [10, 20, 4, 45, 99, 99]\n",
        "result = second_largest(numbers)\n",
        "print(f\"The second largest number is: {result}\")"
      ],
      "metadata": {
        "colab": {
          "base_uri": "https://localhost:8080/"
        },
        "id": "MroHaBWxcKkb",
        "outputId": "c4691218-5dca-42c3-8a21-43d34d7a6657"
      },
      "execution_count": null,
      "outputs": [
        {
          "output_type": "stream",
          "name": "stdout",
          "text": [
            "The second largest number is: 45\n"
          ]
        }
      ]
    },
    {
      "cell_type": "markdown",
      "source": [
        " Q13)Create a code to count the occurrences of each element in a list and return a dictionary with elements as\n",
        "keys and their counts as values?"
      ],
      "metadata": {
        "id": "0stx9vcqcQ12"
      }
    },
    {
      "cell_type": "code",
      "source": [
        "def count_occurrences(lst):\n",
        "    # Initialize an empty dictionary to store counts\n",
        "    counts = {}\n",
        "\n",
        "    for element in lst:\n",
        "        if element in counts:\n",
        "            counts[element] += 1  # Increment the count for existing elements\n",
        "        else:\n",
        "            counts[element] = 1  # Initialize the count for new elements\n",
        "\n",
        "    return counts\n",
        "\n",
        "# Example usage\n",
        "my_list = [1, 2, 2, 3, 4, 4, 4, 5]\n",
        "occurrences = count_occurrences(my_list)\n",
        "print(f\"Occurrences of elements: {occurrences}\")"
      ],
      "metadata": {
        "colab": {
          "base_uri": "https://localhost:8080/"
        },
        "id": "L5MjH5iOcYZX",
        "outputId": "a7b0423e-ad11-4f86-f509-c5ac713df10d"
      },
      "execution_count": null,
      "outputs": [
        {
          "output_type": "stream",
          "name": "stdout",
          "text": [
            "Occurrences of elements: {1: 1, 2: 2, 3: 1, 4: 3, 5: 1}\n"
          ]
        }
      ]
    },
    {
      "cell_type": "markdown",
      "source": [
        " Q14)Write a code to reverse a list in-place without using any built-in reverse functions?"
      ],
      "metadata": {
        "id": "rHlQn8qncisT"
      }
    },
    {
      "cell_type": "code",
      "source": [
        "def reverse_list_in_place(lst):\n",
        "    start = 0\n",
        "    end = len(lst) - 1\n",
        "\n",
        "    while start < end:\n",
        "        # Swap the elements at the start and end\n",
        "        lst[start], lst[end] = lst[end], lst[start]\n",
        "\n",
        "        # Move the pointers towards the center\n",
        "        start += 1\n",
        "        end -= 1\n",
        "\n",
        "    return lst\n",
        "\n",
        "# Example usage\n",
        "my_list = [1, 2, 3, 4, 5]\n",
        "reversed_list = reverse_list_in_place(my_list)\n",
        "print(f\"Reversed List: {reversed_list}\")"
      ],
      "metadata": {
        "colab": {
          "base_uri": "https://localhost:8080/"
        },
        "id": "BADHVz1zc4Vo",
        "outputId": "75f631c6-2214-4a9f-9d05-e7f7d59d6328"
      },
      "execution_count": null,
      "outputs": [
        {
          "output_type": "stream",
          "name": "stdout",
          "text": [
            "Reversed List: [5, 4, 3, 2, 1]\n"
          ]
        }
      ]
    },
    {
      "cell_type": "markdown",
      "source": [
        "Q15)Implement a code to find and remove duplicates from a list while preserving the original order of\n",
        "elements?"
      ],
      "metadata": {
        "id": "hFPdbsLudAAo"
      }
    },
    {
      "cell_type": "code",
      "source": [
        "def remove_duplicates(lst):\n",
        "    seen = set()  # Set to track elements we've already seen\n",
        "    result = []  # List to store the elements without duplicates\n",
        "\n",
        "    for item in lst:\n",
        "        if item not in seen:\n",
        "            result.append(item)  # Add the item to the result list\n",
        "            seen.add(item)  # Mark the item as seen\n",
        "\n",
        "    return result\n",
        "\n",
        "# Example usage\n",
        "my_list = [1, 2, 3, 4, 2, 5, 1, 6, 3]\n",
        "unique_list = remove_duplicates(my_list)\n",
        "print(f\"List without duplicates: {unique_list}\")"
      ],
      "metadata": {
        "colab": {
          "base_uri": "https://localhost:8080/"
        },
        "id": "xojiw0ZYdfry",
        "outputId": "9c4248da-084a-4f3b-d18d-13e295d99f33"
      },
      "execution_count": null,
      "outputs": [
        {
          "output_type": "stream",
          "name": "stdout",
          "text": [
            "List without duplicates: [1, 2, 3, 4, 5, 6]\n"
          ]
        }
      ]
    },
    {
      "cell_type": "markdown",
      "source": [
        "Q16)Create a code to check if a given list is sorted (either in ascending or descending order) or not?"
      ],
      "metadata": {
        "id": "mHmxAUI_diZR"
      }
    },
    {
      "cell_type": "code",
      "source": [
        "def is_sorted(lst):\n",
        "    if len(lst) <= 1:\n",
        "        return True  # A list with one or zero elements is considered sorted\n",
        "\n",
        "    ascending = all(lst[i] <= lst[i+1] for i in range(len(lst) - 1))  # Check for ascending order\n",
        "    descending = all(lst[i] >= lst[i+1] for i in range(len(lst) - 1))  # Check for descending order\n",
        "\n",
        "    return ascending or descending  # Return True if either ascending or descending\n",
        "\n",
        "# Example usage\n",
        "my_list = [1, 2, 3, 4, 5]\n",
        "result = is_sorted(my_list)\n",
        "print(f\"Is the list sorted? {result}\")\n",
        "\n",
        "my_list2 = [5, 4, 3, 2, 1]\n",
        "result2 = is_sorted(my_list2)\n",
        "print(f\"Is the second list sorted? {result2}\")\n",
        "\n",
        "my_list3 = [1, 3, 2, 4, 5]\n",
        "result3 = is_sorted(my_list3)\n",
        "print(f\"Is the third list sorted? {result3}\")"
      ],
      "metadata": {
        "colab": {
          "base_uri": "https://localhost:8080/"
        },
        "id": "WQV62a8EdrvF",
        "outputId": "49005c86-a9fc-4b7e-897e-741cd3c2d9aa"
      },
      "execution_count": null,
      "outputs": [
        {
          "output_type": "stream",
          "name": "stdout",
          "text": [
            "Is the list sorted? True\n",
            "Is the second list sorted? True\n",
            "Is the third list sorted? False\n"
          ]
        }
      ]
    },
    {
      "cell_type": "markdown",
      "source": [
        "Q17) Write a code to merge two sorted lists into a single sorted list?"
      ],
      "metadata": {
        "id": "7dgKsgYNd7Nv"
      }
    },
    {
      "cell_type": "code",
      "source": [
        "def merge_sorted_lists(list1, list2):\n",
        "    merged_list = []\n",
        "    i, j = 0, 0\n",
        "\n",
        "    # Traverse both lists and append the smaller element to merged_list\n",
        "    while i < len(list1) and j < len(list2):\n",
        "        if list1[i] <= list2[j]:\n",
        "            merged_list.append(list1[i])\n",
        "            i += 1\n",
        "        else:\n",
        "            merged_list.append(list2[j])\n",
        "            j += 1\n",
        "\n",
        "    # Append any remaining elements from list1 or list2\n",
        "    merged_list.extend(list1[i:])\n",
        "    merged_list.extend(list2[j:])\n",
        "\n",
        "    return merged_list\n",
        "\n",
        "# Example usage\n",
        "list1 = [1, 3, 5, 7]\n",
        "list2 = [2, 4, 6, 8]\n",
        "merged = merge_sorted_lists(list1, list2)\n",
        "print(f\"Merged Sorted List: {merged}\")"
      ],
      "metadata": {
        "colab": {
          "base_uri": "https://localhost:8080/"
        },
        "id": "vzxfbZ4yeFTk",
        "outputId": "7d2b0ad2-0e29-4352-f946-d76a1f617687"
      },
      "execution_count": null,
      "outputs": [
        {
          "output_type": "stream",
          "name": "stdout",
          "text": [
            "Merged Sorted List: [1, 2, 3, 4, 5, 6, 7, 8]\n"
          ]
        }
      ]
    },
    {
      "cell_type": "markdown",
      "source": [
        " Q18)Implement a code to find the intersection of two given lists?"
      ],
      "metadata": {
        "id": "juml5F8HeH1Q"
      }
    },
    {
      "cell_type": "code",
      "source": [
        "def intersection_of_lists(list1, list2):\n",
        "    # Convert both lists to sets to remove duplicates and find common elements\n",
        "    set1 = set(list1)\n",
        "    set2 = set(list2)\n",
        "\n",
        "    # Find the intersection using set's intersection method\n",
        "    intersection = set1.intersection(set2)\n",
        "\n",
        "    # Convert the result back to a list to return\n",
        "    return list(intersection)\n",
        "\n",
        "# Example usage\n",
        "list1 = [1, 2, 3, 4, 5]\n",
        "list2 = [4, 5, 6, 7, 8]\n",
        "result = intersection_of_lists(list1, list2)\n",
        "print(f\"Intersection of lists: {result}\")"
      ],
      "metadata": {
        "colab": {
          "base_uri": "https://localhost:8080/"
        },
        "id": "GAgj3hyZeTXa",
        "outputId": "0c158a01-c82a-4e7f-ee79-94638d0f726b"
      },
      "execution_count": null,
      "outputs": [
        {
          "output_type": "stream",
          "name": "stdout",
          "text": [
            "Intersection of lists: [4, 5]\n"
          ]
        }
      ]
    },
    {
      "cell_type": "markdown",
      "source": [
        "Q19)Create a code to find the union of two lists without duplicates?"
      ],
      "metadata": {
        "id": "XlZa8rwneVx1"
      }
    },
    {
      "cell_type": "code",
      "source": [
        "def union_of_lists(list1, list2):\n",
        "    # Convert both lists to sets and perform the union operation\n",
        "    union = set(list1) | set(list2)\n",
        "\n",
        "    # Convert the result back to a list and return\n",
        "    return list(union)\n",
        "\n",
        "# Example usage\n",
        "list1 = [1, 2, 3, 4, 5]\n",
        "list2 = [4, 5, 6, 7, 8]\n",
        "result = union_of_lists(list1, list2)\n",
        "print(f\"Union of lists: {result}\")"
      ],
      "metadata": {
        "colab": {
          "base_uri": "https://localhost:8080/"
        },
        "id": "XOlUq3sFegpB",
        "outputId": "a265daec-2a5f-41aa-a8a5-31d2ea9893ae"
      },
      "execution_count": null,
      "outputs": [
        {
          "output_type": "stream",
          "name": "stdout",
          "text": [
            "Union of lists: [1, 2, 3, 4, 5, 6, 7, 8]\n"
          ]
        }
      ]
    },
    {
      "cell_type": "markdown",
      "source": [
        "Q20)Write a code to shuffle a given list randomly without using any built-in shuffle functions?"
      ],
      "metadata": {
        "id": "Vun01cbNejM0"
      }
    },
    {
      "cell_type": "code",
      "source": [
        "import random\n",
        "\n",
        "def shuffle_list(lst):\n",
        "    # Loop through the list and swap each element with a random element\n",
        "    for i in range(len(lst)):\n",
        "        # Get a random index between i and the end of the list\n",
        "        random_index = random.randint(i, len(lst) - 1)\n",
        "\n",
        "        # Swap the current element with the randomly chosen element\n",
        "        lst[i], lst[random_index] = lst[random_index], lst[i]\n",
        "\n",
        "    return lst\n",
        "\n",
        "# Example usage\n",
        "my_list = [1, 2, 3, 4, 5]\n",
        "shuffled_list = shuffle_list(my_list)\n",
        "print(f\"Shuffled List: {shuffled_list}\")"
      ],
      "metadata": {
        "colab": {
          "base_uri": "https://localhost:8080/"
        },
        "id": "LkySU7_leqTH",
        "outputId": "ea4631f5-d8e5-4c10-9402-c2e1104d58d6"
      },
      "execution_count": null,
      "outputs": [
        {
          "output_type": "stream",
          "name": "stdout",
          "text": [
            "Shuffled List: [3, 4, 2, 5, 1]\n"
          ]
        }
      ]
    },
    {
      "cell_type": "markdown",
      "source": [
        "Q21)Write a code that takes two tuples as input and returns a new tuple containing elements that are\n",
        "common to both input tuples?"
      ],
      "metadata": {
        "id": "DKOYDgHvew-2"
      }
    },
    {
      "cell_type": "code",
      "source": [
        "def common_elements(tuple1, tuple2):\n",
        "    # Convert both tuples to sets and find the intersection\n",
        "    common_set = set(tuple1) & set(tuple2)\n",
        "\n",
        "    # Convert the set back to a tuple and return\n",
        "    return tuple(common_set)\n",
        "\n",
        "# Example usage\n",
        "tuple1 = (1, 2, 3, 4, 5)\n",
        "tuple2 = (4, 5, 6, 7, 8)\n",
        "result = common_elements(tuple1, tuple2)\n",
        "print(f\"Common elements: {result}\")"
      ],
      "metadata": {
        "colab": {
          "base_uri": "https://localhost:8080/"
        },
        "id": "-mPUDO6je987",
        "outputId": "83492c63-8bac-4096-cc48-8554042c5eba"
      },
      "execution_count": null,
      "outputs": [
        {
          "output_type": "stream",
          "name": "stdout",
          "text": [
            "Common elements: (4, 5)\n"
          ]
        }
      ]
    },
    {
      "cell_type": "markdown",
      "source": [
        "Q22)Create a code that prompts the user to enter two sets of integers separated by commas. Then, print the\n",
        "intersection of these two sets?"
      ],
      "metadata": {
        "id": "jtgdMuRvfBka"
      }
    },
    {
      "cell_type": "code",
      "source": [
        "def main():\n",
        "    # Prompt the user to enter the first set of integers\n",
        "    set1_input = input(\"Enter the first set of integers, separated by commas: \")\n",
        "    # Convert the input to a set of integers\n",
        "    set1 = set(map(int, set1_input.split(',')))\n",
        "\n",
        "    # Prompt the user to enter the second set of integers\n",
        "    set2_input = input(\"Enter the second set of integers, separated by commas: \")\n",
        "    # Convert the input to a set of integers\n",
        "    set2 = set(map(int, set2_input.split(',')))\n",
        "\n",
        "    # Calculate the intersection of the two sets\n",
        "    intersection = set1 & set2\n",
        "\n",
        "    # Print the intersection\n",
        "    print(\"The intersection of the two sets is:\", intersection)\n",
        "\n",
        "if __name__ == \"__main__\":\n",
        "    main()\n"
      ],
      "metadata": {
        "colab": {
          "base_uri": "https://localhost:8080/"
        },
        "id": "_7q9XR-DFjXe",
        "outputId": "59f74399-b8a5-4efb-eb8c-e0b1e5b2cefb"
      },
      "execution_count": null,
      "outputs": [
        {
          "output_type": "stream",
          "name": "stdout",
          "text": [
            "Enter the first set of integers, separated by commas: 123\n",
            "Enter the second set of integers, separated by commas: 456\n",
            "The intersection of the two sets is: set()\n"
          ]
        }
      ]
    },
    {
      "cell_type": "markdown",
      "source": [
        "Q23)Write a code to concatenate two tuples. The function should take two tuples as input and return a new\n",
        "tuple containing elements from both input tuples?"
      ],
      "metadata": {
        "id": "fpaj-qyWg1om"
      }
    },
    {
      "cell_type": "code",
      "source": [
        "def concatenate_tuples(tuple1, tuple2):\n",
        "    \"\"\"\n",
        "    Concatenate two tuples and return the result.\n",
        "\n",
        "    Parameters:\n",
        "        tuple1 (tuple): The first input tuple.\n",
        "        tuple2 (tuple): The second input tuple.\n",
        "\n",
        "    Returns:\n",
        "        tuple: A new tuple containing elements from both input tuples.\n",
        "    \"\"\"\n",
        "    return tuple1 + tuple2\n",
        "\n",
        "# Example usage:\n",
        "tuple1 = (1, 2, 3)\n",
        "tuple2 = (4, 5, 6)\n",
        "\n",
        "result = concatenate_tuples(tuple1, tuple2)\n",
        "print(\"Concatenated tuple:\", result)"
      ],
      "metadata": {
        "colab": {
          "base_uri": "https://localhost:8080/"
        },
        "id": "yQEyr2qXGbii",
        "outputId": "1a83ffcc-733c-4f54-d5a5-01f7b55474a5"
      },
      "execution_count": null,
      "outputs": [
        {
          "output_type": "stream",
          "name": "stdout",
          "text": [
            "Concatenated tuple: (1, 2, 3, 4, 5, 6)\n"
          ]
        }
      ]
    },
    {
      "cell_type": "markdown",
      "source": [
        " Q24)Develop a code that prompts the user to input two sets of strings. Then, print the elements that are\n",
        "present in the first set but not in the second set?"
      ],
      "metadata": {
        "id": "3u-jmX35ikbQ"
      }
    },
    {
      "cell_type": "code",
      "source": [
        "def main():\n",
        "    # Prompt the user to enter the first set of strings\n",
        "    set1_input = input(\"Enter the first set of strings, separated by commas: \")\n",
        "    # Convert the input into a set of strings\n",
        "    set1 = set(set1_input.split(','))\n",
        "\n",
        "    # Prompt the user to enter the second set of strings\n",
        "    set2_input = input(\"Enter the second set of strings, separated by commas: \")\n",
        "    # Convert the input into a set of strings\n",
        "    set2 = set(set2_input.split(','))\n",
        "\n",
        "    # Find elements present in the first set but not in the second set\n",
        "    difference = set1 - set2\n",
        "\n",
        "    # Print the difference\n",
        "    print(\"Elements present in the first set but not in the second set:\", difference)\n",
        "\n",
        "if __name__ == \"__main__\":\n",
        "    main()"
      ],
      "metadata": {
        "colab": {
          "base_uri": "https://localhost:8080/"
        },
        "id": "DalTmXskGlUL",
        "outputId": "b43922de-1b65-44e4-ac1f-97b3fe0071db"
      },
      "execution_count": null,
      "outputs": [
        {
          "output_type": "stream",
          "name": "stdout",
          "text": [
            "Enter the first set of strings, separated by commas: apple,banana,cherry\n",
            "Enter the second set of strings, separated by commas: banana,grape\n",
            "Elements present in the first set but not in the second set: {'cherry', 'apple'}\n"
          ]
        }
      ]
    },
    {
      "cell_type": "markdown",
      "source": [
        "Q25)Create a code that takes a tuple and two integers as input. The function should return a new tuple\n",
        "containing elements from the original tuple within the specified range of indices?"
      ],
      "metadata": {
        "id": "JSXNkx3lofj-"
      }
    },
    {
      "cell_type": "code",
      "source": [
        "def slice_tuple(input_tuple, start_index, end_index):\n",
        "    # Ensure the range is valid\n",
        "    if start_index < 0 or end_index > len(input_tuple) or start_index > end_index:\n",
        "        raise ValueError(\"Invalid index range.\")\n",
        "\n",
        "    # Return the sliced tuple\n",
        "    return input_tuple[start_index:end_index]\n",
        "\n",
        "# Example usage:\n",
        "original_tuple = (1, 2, 3, 4, 5, 6)\n",
        "start = 2\n",
        "end = 5\n",
        "\n",
        "result = slice_tuple(original_tuple, start, end)\n",
        "print(result)"
      ],
      "metadata": {
        "colab": {
          "base_uri": "https://localhost:8080/"
        },
        "id": "x2ihL_5qo45a",
        "outputId": "042e30d4-07af-477c-badf-b8d5778cfb1a"
      },
      "execution_count": null,
      "outputs": [
        {
          "output_type": "stream",
          "name": "stdout",
          "text": [
            "(3, 4, 5)\n"
          ]
        }
      ]
    },
    {
      "cell_type": "markdown",
      "source": [
        " Q26)Write a code that prompts the user to input two sets of characters. Then, print the union of these two sets?"
      ],
      "metadata": {
        "id": "wMKNOhIao8yQ"
      }
    },
    {
      "cell_type": "code",
      "source": [
        "def main():\n",
        "    # Prompt the user to enter the first set of characters\n",
        "    set1_input = input(\"Enter the first set of characters, separated by commas: \")\n",
        "    # Convert the input into a set of characters\n",
        "    set1 = set(set1_input.split(','))\n",
        "\n",
        "    # Prompt the user to enter the second set of characters\n",
        "    set2_input = input(\"Enter the second set of characters, separated by commas: \")\n",
        "    # Convert the input into a set of characters\n",
        "    set2 = set(set2_input.split(','))\n",
        "\n",
        "    # Calculate the union of the two sets\n",
        "    union_set = set1 | set2\n",
        "\n",
        "    # Print the union\n",
        "    print(\"The union of the two sets is:\", union_set)\n",
        "\n",
        "if __name__ == \"__main__\":\n",
        "    main()"
      ],
      "metadata": {
        "colab": {
          "base_uri": "https://localhost:8080/"
        },
        "id": "UJd9B7lIHCsS",
        "outputId": "26b82761-8454-4e85-a46f-ef2b0318d643"
      },
      "execution_count": null,
      "outputs": [
        {
          "output_type": "stream",
          "name": "stdout",
          "text": [
            "Enter the first set of characters, separated by commas: a,b,c\n",
            "Enter the second set of characters, separated by commas: c,d,e\n",
            "The union of the two sets is: {'d', 'a', 'e', 'b', 'c'}\n"
          ]
        }
      ]
    },
    {
      "cell_type": "markdown",
      "source": [
        " Q27)Develop a code that takes a tuple of integers as input. The function should return the maximum and\n",
        "minimum values from the tuple using tuple unpacking?"
      ],
      "metadata": {
        "id": "etDh3ZJOpnBk"
      }
    },
    {
      "cell_type": "code",
      "source": [
        "def find_min_max(input_tuple):\n",
        "    \"\"\"\n",
        "    Return the minimum and maximum values from a tuple of integers.\n",
        "\n",
        "    Parameters:\n",
        "        input_tuple (tuple): A tuple of integers.\n",
        "\n",
        "    Returns:\n",
        "        tuple: A tuple containing the minimum and maximum values.\n",
        "    \"\"\"\n",
        "    if not input_tuple:  # Check if the tuple is empty\n",
        "        raise ValueError(\"The input tuple is empty.\")\n",
        "\n",
        "    return min(input_tuple), max(input_tuple)  # Return min and max values using tuple unpacking\n",
        "\n",
        "# Example usage:\n",
        "input_tuple = (10, 20, 5, 35, 15)\n",
        "min_value, max_value = find_min_max(input_tuple)\n",
        "\n",
        "print(f\"Minimum value: {min_value}\")\n",
        "print(f\"Maximum value: {max_value}\")"
      ],
      "metadata": {
        "id": "0UAqMJF3HuEw",
        "outputId": "fcd2092c-45ee-4327-c2f6-e9aee76bc2a0",
        "colab": {
          "base_uri": "https://localhost:8080/"
        }
      },
      "execution_count": null,
      "outputs": [
        {
          "output_type": "stream",
          "name": "stdout",
          "text": [
            "Minimum value: 5\n",
            "Maximum value: 35\n"
          ]
        }
      ]
    },
    {
      "cell_type": "markdown",
      "source": [
        "Q28)Create a code that defines two sets of integers. Then, print the union, intersection, and difference of these\n",
        "two sets?"
      ],
      "metadata": {
        "id": "BCwRIYerRCmV"
      }
    },
    {
      "cell_type": "code",
      "source": [
        "# Define two sets of integers\n",
        "set1 = {1, 2, 3, 4, 5}\n",
        "set2 = {4, 5, 6, 7, 8}\n",
        "\n",
        "# Calculate and print the union of the two sets\n",
        "union = set1.union(set2)\n",
        "print(\"Union:\", union)\n",
        "\n",
        "# Calculate and print the intersection of the two sets\n",
        "intersection = set1.intersection(set2)\n",
        "print(\"Intersection:\", intersection)\n",
        "\n",
        "# Calculate and print the difference of the two sets (set1 - set2)\n",
        "difference = set1.difference(set2)\n",
        "print(\"Difference (set1 - set2):\", difference)\n",
        "\n",
        "# Optionally, print the difference of the two sets in reverse (set2 - set1)\n",
        "difference_reverse = set2.difference(set1)\n",
        "print(\"Difference (set2 - set1):\", difference_reverse)"
      ],
      "metadata": {
        "colab": {
          "base_uri": "https://localhost:8080/"
        },
        "id": "U3YNcrWhRLNf",
        "outputId": "d944a740-9cdb-4fa7-a824-9155d8596206"
      },
      "execution_count": 7,
      "outputs": [
        {
          "output_type": "stream",
          "name": "stdout",
          "text": [
            "Union: {1, 2, 3, 4, 5, 6, 7, 8}\n",
            "Intersection: {4, 5}\n",
            "Difference (set1 - set2): {1, 2, 3}\n",
            "Difference (set2 - set1): {8, 6, 7}\n"
          ]
        }
      ]
    },
    {
      "cell_type": "markdown",
      "source": [
        "Q29)Write a code that takes a tuple and an element as input. The function should return the count of\n",
        "occurrences of the given element in the tuple?"
      ],
      "metadata": {
        "id": "YB7KktS3RVRS"
      }
    },
    {
      "cell_type": "code",
      "source": [
        "def count_occurrences(input_tuple, element):\n",
        "    \"\"\"\n",
        "    Count the occurrences of an element in a tuple.\n",
        "\n",
        "    :param input_tuple: Tuple to search in\n",
        "    :param element: Element to count\n",
        "    :return: Count of occurrences\n",
        "    \"\"\"\n",
        "    return input_tuple.count(element)\n",
        "\n",
        "# Example usage\n",
        "my_tuple = (1, 2, 3, 2, 4, 2, 5)\n",
        "element_to_count = 2\n",
        "\n",
        "result = count_occurrences(my_tuple, element_to_count)\n",
        "print(f\"The element {element_to_count} appears {result} time(s) in the tuple.\")"
      ],
      "metadata": {
        "colab": {
          "base_uri": "https://localhost:8080/"
        },
        "id": "oVGT9c1wRqsM",
        "outputId": "8de2a0ac-8fcd-460c-d93b-c7ad780b8f72"
      },
      "execution_count": 8,
      "outputs": [
        {
          "output_type": "stream",
          "name": "stdout",
          "text": [
            "The element 2 appears 3 time(s) in the tuple.\n"
          ]
        }
      ]
    },
    {
      "cell_type": "markdown",
      "source": [
        " Q30)Develop a code that prompts the user to input two sets of strings. Then, print the symmetric difference of\n",
        "these two sets?"
      ],
      "metadata": {
        "id": "mQEiEvt-Rtvp"
      }
    },
    {
      "cell_type": "code",
      "source": [
        "# Prompt the user to input two sets of strings\n",
        "set1 = set(input(\"Enter the elements of the first set, separated by spaces: \").split())\n",
        "set2 = set(input(\"Enter the elements of the second set, separated by spaces: \").split())\n",
        "\n",
        "# Calculate the symmetric difference\n",
        "symmetric_difference = set1.symmetric_difference(set2)\n",
        "\n",
        "# Print the result\n",
        "print(\"Symmetric Difference:\", symmetric_difference)"
      ],
      "metadata": {
        "colab": {
          "base_uri": "https://localhost:8080/"
        },
        "id": "wEaxIZuERyxu",
        "outputId": "4d45ebc2-1ab1-4587-a5c4-12b5e7dc4bfc"
      },
      "execution_count": 9,
      "outputs": [
        {
          "output_type": "stream",
          "name": "stdout",
          "text": [
            "Enter the elements of the first set, separated by spaces: apple orange banana\n",
            "Enter the elements of the second set, separated by spaces: orange grape apple\n",
            "Symmetric Difference: {'banana', 'grape'}\n"
          ]
        }
      ]
    },
    {
      "cell_type": "markdown",
      "source": [
        "Q31)Write a code that takes a list of words as input and returns a dictionary where the keys are unique words\n",
        "and the values are the frequencies of those words in the input list?"
      ],
      "metadata": {
        "id": "wXWcemxMR_w8"
      }
    },
    {
      "cell_type": "code",
      "source": [
        "def word_frequency(word_list):\n",
        "    \"\"\"\n",
        "    Returns a dictionary where keys are words and values are their frequencies.\n",
        "\n",
        "    :param word_list: List of words\n",
        "    :return: Dictionary with word frequencies\n",
        "    \"\"\"\n",
        "    frequency_dict = {}\n",
        "\n",
        "    for word in word_list:\n",
        "        if word in frequency_dict:\n",
        "            frequency_dict[word] += 1\n",
        "        else:\n",
        "            frequency_dict[word] = 1\n",
        "\n",
        "    return frequency_dict\n",
        "\n",
        "# Example usage\n",
        "words = input(\"Enter a list of words, separated by spaces: \").split()\n",
        "\n",
        "result = word_frequency(words)\n",
        "print(\"Word Frequencies:\", result)"
      ],
      "metadata": {
        "colab": {
          "base_uri": "https://localhost:8080/"
        },
        "id": "xEae5wZMSMja",
        "outputId": "3e6e9e13-d94e-4669-d81a-0e319819a42f"
      },
      "execution_count": 10,
      "outputs": [
        {
          "output_type": "stream",
          "name": "stdout",
          "text": [
            "Enter a list of words, separated by spaces: apple banana apple orange apple banana\n",
            "Word Frequencies: {'apple': 3, 'banana': 2, 'orange': 1}\n"
          ]
        }
      ]
    },
    {
      "cell_type": "markdown",
      "source": [
        "Q32)Write a code that takes two dictionaries as input and merges them into a single dictionary. If there are\n",
        "common keys, the values should be added together?"
      ],
      "metadata": {
        "id": "n2eTz7UmSS0L"
      }
    },
    {
      "cell_type": "code",
      "source": [
        "def merge_dictionaries(dict1, dict2):\n",
        "    \"\"\"\n",
        "    Merges two dictionaries. If there are common keys, the values are added together.\n",
        "\n",
        "    :param dict1: First dictionary\n",
        "    :param dict2: Second dictionary\n",
        "    :return: Merged dictionary\n",
        "    \"\"\"\n",
        "    # Create a copy of dict1 to avoid modifying the original\n",
        "    merged_dict = dict1.copy()\n",
        "\n",
        "    # Iterate over the second dictionary\n",
        "    for key, value in dict2.items():\n",
        "        if key in merged_dict:\n",
        "            merged_dict[key] += value  # Add the values if the key exists\n",
        "        else:\n",
        "            merged_dict[key] = value   # Otherwise, just add the key-value pair\n",
        "\n",
        "    return merged_dict\n",
        "\n",
        "# Example usage\n",
        "dict1 = eval(input(\"Enter the first dictionary: \"))\n",
        "dict2 = eval(input(\"Enter the second dictionary: \"))\n",
        "\n",
        "merged_result = merge_dictionaries(dict1, dict2)\n",
        "print(\"Merged Dictionary:\", merged_result)"
      ],
      "metadata": {
        "colab": {
          "base_uri": "https://localhost:8080/"
        },
        "id": "YYZaEUzFSbbj",
        "outputId": "d1393013-0755-4c19-9506-a87be202e4a7"
      },
      "execution_count": 11,
      "outputs": [
        {
          "output_type": "stream",
          "name": "stdout",
          "text": [
            "Enter the first dictionary: {'a': 1, 'b': 2}\n",
            "Enter the second dictionary: {'b': 3, 'c': 4}\n",
            "Merged Dictionary: {'a': 1, 'b': 5, 'c': 4}\n"
          ]
        }
      ]
    },
    {
      "cell_type": "markdown",
      "source": [
        "Q33)Write a code to access a value in a nested dictionary. The function should take the dictionary and a list of\n",
        "keys as input, and return the corresponding value. If any of the keys do not exist in the dictionary, the\n",
        "function should return None?"
      ],
      "metadata": {
        "id": "xm2XYrTQSlAW"
      }
    },
    {
      "cell_type": "code",
      "source": [
        "def access_nested_value(nested_dict, keys):\n",
        "    \"\"\"\n",
        "    Accesses a value in a nested dictionary using a list of keys.\n",
        "    If any of the keys do not exist, returns None.\n",
        "\n",
        "    :param nested_dict: The nested dictionary to search in\n",
        "    :param keys: List of keys to access the value\n",
        "    :return: The value corresponding to the keys or None if any key is missing\n",
        "    \"\"\"\n",
        "    for key in keys:\n",
        "        # Check if the key exists in the dictionary\n",
        "        if key in nested_dict:\n",
        "            nested_dict = nested_dict[key]\n",
        "        else:\n",
        "            return None  # Return None if any key is not found\n",
        "\n",
        "    return nested_dict  # Return the value if all keys are found\n",
        "\n",
        "# Example usage\n",
        "nested_dict = {\n",
        "    'a': {\n",
        "        'b': {\n",
        "            'c': 5\n",
        "        }\n",
        "    }\n",
        "}\n",
        "keys = input(\"Enter the list of keys (comma-separated): \").split(',')\n",
        "\n",
        "# Convert keys to strip spaces and keep as strings\n",
        "keys = [key.strip() for key in keys]\n",
        "\n",
        "result = access_nested_value(nested_dict, keys)\n",
        "print(\"The corresponding value is:\", result)"
      ],
      "metadata": {
        "colab": {
          "base_uri": "https://localhost:8080/"
        },
        "id": "rL5e5JHQSwVB",
        "outputId": "c3d3e6f6-b6e9-406b-ee75-1e843d50fa13"
      },
      "execution_count": 12,
      "outputs": [
        {
          "output_type": "stream",
          "name": "stdout",
          "text": [
            "Enter the list of keys (comma-separated): a, b, c\n",
            "The corresponding value is: 5\n"
          ]
        }
      ]
    },
    {
      "cell_type": "markdown",
      "source": [
        "Q34)Write a code that takes a dictionary as input and returns a sorted version of it based on the values. You\n",
        "can choose whether to sort in ascending or descending order?"
      ],
      "metadata": {
        "id": "RTsHfJlQS2QQ"
      }
    },
    {
      "cell_type": "code",
      "source": [
        "def sort_dict_by_value(input_dict, descending=False):\n",
        "    \"\"\"\n",
        "    Sorts a dictionary based on its values.\n",
        "\n",
        "    :param input_dict: Dictionary to be sorted\n",
        "    :param descending: Boolean flag for sorting order (True for descending, False for ascending)\n",
        "    :return: Sorted dictionary\n",
        "    \"\"\"\n",
        "    sorted_dict = dict(sorted(input_dict.items(), key=lambda item: item[1], reverse=descending))\n",
        "    return sorted_dict\n",
        "\n",
        "# Example usage\n",
        "input_dict = eval(input(\"Enter the dictionary: \"))\n",
        "order = input(\"Sort in ascending or descending order? (asc/desc): \").strip().lower()\n",
        "\n",
        "# Convert 'asc' or 'desc' to Boolean\n",
        "descending_order = order == 'desc'\n",
        "\n",
        "sorted_result = sort_dict_by_value(input_dict, descending=descending_order)\n",
        "print(\"Sorted Dictionary:\", sorted_result)"
      ],
      "metadata": {
        "colab": {
          "base_uri": "https://localhost:8080/"
        },
        "id": "7kM0itpiTAmJ",
        "outputId": "de02c07a-20ec-4504-f0ea-0392ad5ae7ce"
      },
      "execution_count": 13,
      "outputs": [
        {
          "output_type": "stream",
          "name": "stdout",
          "text": [
            "Enter the dictionary: {'a': 3, 'b': 1, 'c': 2}\n",
            "Sort in ascending or descending order? (asc/desc): (asc/desc): asc\n",
            "Sorted Dictionary: {'b': 1, 'c': 2, 'a': 3}\n"
          ]
        }
      ]
    },
    {
      "cell_type": "markdown",
      "source": [
        "Q35)Write a code that inverts a dictionary, swapping keys and values. Ensure that the inverted dictionary\n",
        "correctly handles cases where multiple keys have the same value by storing the keys as a list in the\n",
        "inverted dictionary?"
      ],
      "metadata": {
        "id": "indPw5hMTNrG"
      }
    },
    {
      "cell_type": "code",
      "source": [
        "def invert_dict(input_dict):\n",
        "    \"\"\"\n",
        "    Inverts a dictionary, swapping keys and values.\n",
        "    If multiple keys have the same value, stores the keys as a list.\n",
        "\n",
        "    :param input_dict: The dictionary to be inverted\n",
        "    :return: The inverted dictionary\n",
        "    \"\"\"\n",
        "    inverted_dict = {}\n",
        "\n",
        "    for key, value in input_dict.items():\n",
        "        if value in inverted_dict:\n",
        "            # If the value already exists as a key, append the current key to the list\n",
        "            inverted_dict[value].append(key)\n",
        "        else:\n",
        "            # If the value is not in the inverted dictionary, add it with the key as a list\n",
        "            inverted_dict[value] = [key]\n",
        "\n",
        "    return inverted_dict\n",
        "\n",
        "# Example usage\n",
        "input_dict = eval(input(\"Enter the dictionary: \"))\n",
        "\n",
        "inverted_result = invert_dict(input_dict)"
      ],
      "metadata": {
        "colab": {
          "base_uri": "https://localhost:8080/"
        },
        "id": "oe8w5k4STUGV",
        "outputId": "024d6079-067b-4db1-c1af-88b69103e5e8"
      },
      "execution_count": 14,
      "outputs": [
        {
          "name": "stdout",
          "output_type": "stream",
          "text": [
            "Enter the dictionary: {'a': 1, 'b': 2, 'c': 1, 'd': 3}\n"
          ]
        }
      ]
    }
  ]
}