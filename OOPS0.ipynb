{
  "nbformat": 4,
  "nbformat_minor": 0,
  "metadata": {
    "colab": {
      "provenance": [],
      "authorship_tag": "ABX9TyNQbLpVttox9aSMTnrDaAZR",
      "include_colab_link": true
    },
    "kernelspec": {
      "name": "python3",
      "display_name": "Python 3"
    },
    "language_info": {
      "name": "python"
    }
  },
  "cells": [
    {
      "cell_type": "markdown",
      "metadata": {
        "id": "view-in-github",
        "colab_type": "text"
      },
      "source": [
        "<a href=\"https://colab.research.google.com/github/NehaKumarink/Python-DA-Assignment/blob/main/OOPS0.ipynb\" target=\"_parent\"><img src=\"https://colab.research.google.com/assets/colab-badge.svg\" alt=\"Open In Colab\"/></a>"
      ]
    },
    {
      "cell_type": "markdown",
      "source": [
        "Q1)What are the five key concepts of Object-Oriented Programming (OOP)?"
      ],
      "metadata": {
        "id": "Xq0x5kTLeCBX"
      }
    },
    {
      "cell_type": "markdown",
      "source": [
        "1. Class\n",
        "\n",
        "A class is a blueprint for creating objects."
      ],
      "metadata": {
        "id": "KZIhZR7NeiY6"
      }
    },
    {
      "cell_type": "code",
      "source": [
        "class Animal:\n",
        "    def __init__(self, name):\n",
        "        self.name = name  # Attribute\n",
        "\n",
        "    def speak(self):\n",
        "        print(f\"{self.name} makes a sound!\")  # Method\n"
      ],
      "metadata": {
        "id": "IWbbJHivemYW"
      },
      "execution_count": null,
      "outputs": []
    },
    {
      "cell_type": "markdown",
      "source": [
        "2. Object - An object is an instance of a class."
      ],
      "metadata": {
        "id": "boa-t-8h31gb"
      }
    },
    {
      "cell_type": "code",
      "source": [
        "dog = Animal(\"Buddy\")  # Create an object\n",
        "dog.speak()"
      ],
      "metadata": {
        "colab": {
          "base_uri": "https://localhost:8080/"
        },
        "id": "YjiceuX039Y9",
        "outputId": "ec3036c3-e723-40f2-ab25-e9de6b1d1c75"
      },
      "execution_count": null,
      "outputs": [
        {
          "output_type": "stream",
          "name": "stdout",
          "text": [
            "Buddy makes a sound!\n"
          ]
        }
      ]
    },
    {
      "cell_type": "markdown",
      "source": [
        "3. Encapsulation - Restrict access to attributes and provide controlled ways to interact with them."
      ],
      "metadata": {
        "id": "OA0Toish4TiQ"
      }
    },
    {
      "cell_type": "code",
      "source": [
        "class BankAccount:\n",
        "    def __init__(self, balance):\n",
        "        self.__balance = balance  # Private attribute\n",
        "\n",
        "    def deposit(self, amount):\n",
        "        self.__balance += amount  # Modify private attribute\n",
        "\n",
        "    def get_balance(self):\n",
        "        return self.__balance  # Access private attribute\n",
        "\n",
        "account = BankAccount(100)\n",
        "account.deposit(50)\n",
        "print(account.get_balance())"
      ],
      "metadata": {
        "colab": {
          "base_uri": "https://localhost:8080/"
        },
        "id": "41CfY1QT4YaO",
        "outputId": "59347869-bdbd-402d-b582-7c8e4fc10397"
      },
      "execution_count": null,
      "outputs": [
        {
          "output_type": "stream",
          "name": "stdout",
          "text": [
            "150\n"
          ]
        }
      ]
    },
    {
      "cell_type": "markdown",
      "source": [
        "4. Inheritance - Reuse code from a parent class in a child class."
      ],
      "metadata": {
        "id": "-4jK7w5I46gc"
      }
    },
    {
      "cell_type": "code",
      "source": [
        "class Animal:\n",
        "    def __init__(self, name):\n",
        "        self.name = name\n",
        "\n",
        "    def speak(self):\n",
        "        return f\"{self.name} makes a sound.\"\n",
        "\n",
        "class Dog(Animal):  # Dog inherits from Animal\n",
        "    def speak(self):\n",
        "        return f\"{self.name} says Woof!\"\n",
        "\n",
        "dog = Dog(\"Buddy\")\n",
        "print(dog.speak())  #"
      ],
      "metadata": {
        "colab": {
          "base_uri": "https://localhost:8080/"
        },
        "id": "lK8rZoNu5DLp",
        "outputId": "a6e8de19-9d1c-4f65-ff8c-27ccfa77ca16"
      },
      "execution_count": null,
      "outputs": [
        {
          "output_type": "stream",
          "name": "stdout",
          "text": [
            "Buddy says Woof!\n"
          ]
        }
      ]
    },
    {
      "cell_type": "markdown",
      "source": [
        "5. Polymorphism - Different classes have the same method but behave differently."
      ],
      "metadata": {
        "id": "HIZarZIR5MAF"
      }
    },
    {
      "cell_type": "code",
      "source": [
        "class Dog:\n",
        "    def speak(self):\n",
        "        return \"Woof!\"\n",
        "\n",
        "class Cat:\n",
        "    def speak(self):\n",
        "        return \"Meow!\"\n",
        "\n",
        "animals = [Dog(), Cat()]  # List of different objects\n",
        "for animal in animals:\n",
        "    print(animal.speak())"
      ],
      "metadata": {
        "colab": {
          "base_uri": "https://localhost:8080/"
        },
        "id": "mt-CHvnB5S7Q",
        "outputId": "551adf18-9fcc-4b14-d2ff-0b1083ae8aa8"
      },
      "execution_count": null,
      "outputs": [
        {
          "output_type": "stream",
          "name": "stdout",
          "text": [
            "Woof!\n",
            "Meow!\n"
          ]
        }
      ]
    },
    {
      "cell_type": "markdown",
      "source": [
        "Q2)Write a Python class for a `Car` with attributes for `make`, `model`, and `year`. Include a method to display\n",
        "the car's information."
      ],
      "metadata": {
        "id": "BgSJxcpu5haO"
      }
    },
    {
      "cell_type": "code",
      "source": [
        "class Car:\n",
        "    def __init__(self, make, model, year):\n",
        "        self.make = make  # Brand of the car\n",
        "        self.model = model  # Model of the car\n",
        "        self.year = year  # Manufacturing year of the car\n",
        "\n",
        "    def display_info(self):\n",
        "        print(f\"Car Information: {self.year} {self.make} {self.model}\")\n",
        "\n",
        "# Example usage:\n",
        "my_car = Car(\"Toyota\", \"Corolla\", 2020)\n",
        "my_car.display_info()\n"
      ],
      "metadata": {
        "colab": {
          "base_uri": "https://localhost:8080/"
        },
        "id": "jf7KNpwA5kfC",
        "outputId": "f5aef8ec-b477-4748-8859-9ebb7c758fd9"
      },
      "execution_count": null,
      "outputs": [
        {
          "output_type": "stream",
          "name": "stdout",
          "text": [
            "Car Information: 2020 Toyota Corolla\n"
          ]
        }
      ]
    },
    {
      "cell_type": "markdown",
      "source": [
        "Q3)Explain the difference between instance methods and class methods. Provide an example of each?"
      ],
      "metadata": {
        "id": "_w9U7zje6HKD"
      }
    },
    {
      "cell_type": "markdown",
      "source": [
        "1. Instance Method -An instance method operates on the instance of the class and typically interacts with instance attributes."
      ],
      "metadata": {
        "id": "hjYbtzNK6J4F"
      }
    },
    {
      "cell_type": "code",
      "source": [
        "class Car:\n",
        "    def __init__(self, make, model, year):\n",
        "        self.make = make\n",
        "        self.model = model\n",
        "        self.year = year\n",
        "\n",
        "    def display_info(self):  # Instance method\n",
        "        print(f\"This is a {self.year} {self.make} {self.model}.\")\n",
        "\n",
        "# Usage\n",
        "my_car = Car(\"Toyota\", \"Corolla\", 2020)\n",
        "my_car.display_info()\n"
      ],
      "metadata": {
        "colab": {
          "base_uri": "https://localhost:8080/"
        },
        "id": "EHQGVlve6W6K",
        "outputId": "9936d911-8920-4c26-a052-c2ff7110fad8"
      },
      "execution_count": null,
      "outputs": [
        {
          "output_type": "stream",
          "name": "stdout",
          "text": [
            "This is a 2020 Toyota Corolla.\n"
          ]
        }
      ]
    },
    {
      "cell_type": "markdown",
      "source": [
        "2. Class Method - A class method is defined using the @classmethod decorator and operates on the class rather than on instances."
      ],
      "metadata": {
        "id": "PICYMRC26lMV"
      }
    },
    {
      "cell_type": "code",
      "source": [
        "class Car:\n",
        "    total_cars = 0  # Class attribute\n",
        "\n",
        "    def __init__(self, make, model, year):\n",
        "        self.make = make\n",
        "        self.model = model\n",
        "        self.year = year\n",
        "        Car.total_cars += 1  # Increment the class attribute\n",
        "\n",
        "    @classmethod\n",
        "    def get_total_cars(cls):  # Class method\n",
        "        print(f\"Total cars created: {cls.total_cars}\")\n",
        "\n",
        "# Usage\n",
        "car1 = Car(\"Toyota\", \"Corolla\", 2020)\n",
        "car2 = Car(\"Honda\", \"Civic\", 2019)\n",
        "\n",
        "Car.get_total_cars()\n"
      ],
      "metadata": {
        "colab": {
          "base_uri": "https://localhost:8080/"
        },
        "id": "OBVFPluB6rXy",
        "outputId": "379c7336-83e2-46d9-c9e9-52362014e8c1"
      },
      "execution_count": null,
      "outputs": [
        {
          "output_type": "stream",
          "name": "stdout",
          "text": [
            "Total cars created: 2\n"
          ]
        }
      ]
    },
    {
      "cell_type": "markdown",
      "source": [
        "Q4)How does Python implement method overloading? Give an example."
      ],
      "metadata": {
        "id": "YqfwyD036uWP"
      }
    },
    {
      "cell_type": "markdown",
      "source": [
        "Python does not support method overloading in the traditional sense like some other languages (e.g., Java or C++).\n",
        "\n",
        "Instead, Python achieves similar functionality using:\n",
        "\n",
        "- Default arguments to handle different numbers of parameters.\n",
        "\n",
        "- Variable arguments (using *args and **kwargs) for more flexible method calls.\n",
        "\n",
        "When multiple methods with the same name are defined in a class, only the last definition is retained. Python resolves this with its dynamic typing and default arguments."
      ],
      "metadata": {
        "id": "3uc86jnR661d"
      }
    },
    {
      "cell_type": "code",
      "source": [
        "#Example of Method Overloading Using Default Arguments\n",
        "class Calculator:\n",
        "    def add(self, a, b=0, c=0):  # Default arguments\n",
        "        return a + b + c\n",
        "\n",
        "# Example usage\n",
        "calc = Calculator()\n",
        "print(calc.add(5))\n",
        "print(calc.add(5, 10))\n",
        "print(calc.add(5, 10, 15))\n"
      ],
      "metadata": {
        "colab": {
          "base_uri": "https://localhost:8080/"
        },
        "id": "xU8i1hZt7IQT",
        "outputId": "42a5b62b-4214-46d3-f844-afa4a9017f2d"
      },
      "execution_count": null,
      "outputs": [
        {
          "output_type": "stream",
          "name": "stdout",
          "text": [
            "5\n",
            "15\n",
            "30\n"
          ]
        }
      ]
    },
    {
      "cell_type": "code",
      "source": [
        "# Example of Method Overloading Using *args\n",
        "class Calculator:\n",
        "    def add(self, *args):  # Accept variable arguments\n",
        "        return sum(args)\n",
        "\n",
        "# Example usage\n",
        "calc = Calculator()\n",
        "print(calc.add(5))\n",
        "print(calc.add(5, 10))\n",
        "print(calc.add(5, 10, 15, 20))\n"
      ],
      "metadata": {
        "colab": {
          "base_uri": "https://localhost:8080/"
        },
        "id": "c4Z0Uze27VIT",
        "outputId": "50b2a316-cde7-4039-d631-01f73bec9ff5"
      },
      "execution_count": null,
      "outputs": [
        {
          "output_type": "stream",
          "name": "stdout",
          "text": [
            "5\n",
            "15\n",
            "50\n"
          ]
        }
      ]
    },
    {
      "cell_type": "markdown",
      "source": [
        "Q5)What are the three types of access modifiers in Python? How are they denoted?"
      ],
      "metadata": {
        "id": "lHPszn9X7nvI"
      }
    },
    {
      "cell_type": "markdown",
      "source": [
        "**1. Public**\n",
        "\n",
        "Definition: Public attributes and methods are accessible from anywhere (inside or outside the class).\n",
        "\n",
        "Denotation: No underscore (_) prefix.\n"
      ],
      "metadata": {
        "id": "y7vmhTLM7rOw"
      }
    },
    {
      "cell_type": "code",
      "source": [
        "class Car:\n",
        "    def __init__(self, make):\n",
        "        self.make = make  # Public attribute\n",
        "\n",
        "    def display_make(self):  # Public method\n",
        "        print(f\"Car make: {self.make}\")\n",
        "\n",
        "car = Car(\"Toyota\")\n",
        "print(car.make)  # Accessible\n",
        "car.display_make()  # Accessible\n"
      ],
      "metadata": {
        "colab": {
          "base_uri": "https://localhost:8080/"
        },
        "id": "NTK5OyRH76SR",
        "outputId": "7a7f9374-4031-49b5-b0a5-4b535adcc498"
      },
      "execution_count": null,
      "outputs": [
        {
          "output_type": "stream",
          "name": "stdout",
          "text": [
            "Toyota\n",
            "Car make: Toyota\n"
          ]
        }
      ]
    },
    {
      "cell_type": "markdown",
      "source": [
        "**2. Protected**\n",
        "\n",
        "Definition: Protected attributes and methods are intended to be accessed only within the class and its subclasses (not enforced but conventionally followed).\n",
        "\n",
        "Denotation: A single underscore (_) prefix.\n"
      ],
      "metadata": {
        "id": "76zhhZ4g8Fjq"
      }
    },
    {
      "cell_type": "code",
      "source": [
        "class Car:\n",
        "    def __init__(self, make):\n",
        "        self._make = make  # Protected attribute\n",
        "\n",
        "    def _display_make(self):  # Protected method\n",
        "        print(f\"Car make: {self._make}\")\n",
        "\n",
        "class SportsCar(Car):\n",
        "    def show_make(self):\n",
        "        print(f\"Protected make: {self._make}\")  # Accessible in subclass\n",
        "\n",
        "car = SportsCar(\"Ferrari\")\n",
        "car.show_make()  # Accessible\n",
        "print(car._make)  # Accessible but discouraged\n"
      ],
      "metadata": {
        "colab": {
          "base_uri": "https://localhost:8080/"
        },
        "id": "Lk5PTgx38Mfj",
        "outputId": "75424e13-365c-4cf2-bdde-b44dfd893bc1"
      },
      "execution_count": null,
      "outputs": [
        {
          "output_type": "stream",
          "name": "stdout",
          "text": [
            "Protected make: Ferrari\n",
            "Ferrari\n"
          ]
        }
      ]
    },
    {
      "cell_type": "markdown",
      "source": [
        "**3. Private**\n",
        "\n",
        "Definition: Private attributes and methods are accessible only within the class, not outside or in subclasses (name mangling is used for this).\n",
        "\n",
        "Denotation: A double underscore (__) prefix."
      ],
      "metadata": {
        "id": "f7XiKNx28Rvn"
      }
    },
    {
      "cell_type": "code",
      "source": [
        "class Car:\n",
        "    def __init__(self, make):\n",
        "        self.__make = make  # Private attribute\n",
        "\n",
        "    def __display_make(self):  # Private method\n",
        "        print(f\"Car make: {self.__make}\")\n",
        "\n",
        "    def show_make(self):\n",
        "        self.__display_make()  # Accessible within the class\n",
        "\n",
        "car = Car(\"BMW\")\n",
        "car.show_make()  # Accessible\n",
        "# print(car.__make)  # AttributeError: Cannot access private attribute\n",
        "# car.__display_make()  # AttributeError: Cannot access private method\n"
      ],
      "metadata": {
        "colab": {
          "base_uri": "https://localhost:8080/"
        },
        "id": "z_YwkfdJ8YJY",
        "outputId": "df7b2ca9-f323-459a-8d55-19b4b12e63bf"
      },
      "execution_count": null,
      "outputs": [
        {
          "output_type": "stream",
          "name": "stdout",
          "text": [
            "Car make: BMW\n"
          ]
        }
      ]
    },
    {
      "cell_type": "markdown",
      "source": [
        "Q6)Describe the five types of inheritance in Python. Provide a simple example of multiple inheritance?"
      ],
      "metadata": {
        "id": "Qwc7YOEj8eyn"
      }
    },
    {
      "cell_type": "markdown",
      "source": [
        "Inheritance allows one class (child) to derive attributes and methods from another class (parent).\n",
        "\n",
        "Python supports the following five types of inheritance:\n",
        "\n",
        "**1. Single Inheritance**\n",
        "\n",
        "A child class inherits from a single parent class."
      ],
      "metadata": {
        "id": "X5bSBJbb81KD"
      }
    },
    {
      "cell_type": "code",
      "source": [
        "class Parent:\n",
        "    def show(self):\n",
        "        print(\"This is the Parent class\")\n",
        "\n",
        "class Child(Parent):\n",
        "    pass\n",
        "\n",
        "obj = Child()\n",
        "obj.show()"
      ],
      "metadata": {
        "colab": {
          "base_uri": "https://localhost:8080/"
        },
        "id": "8Yfoy58K9Cjv",
        "outputId": "bf82c975-bde5-49f3-cbbf-1315eee20164"
      },
      "execution_count": null,
      "outputs": [
        {
          "output_type": "stream",
          "name": "stdout",
          "text": [
            "This is the Parent class\n"
          ]
        }
      ]
    },
    {
      "cell_type": "markdown",
      "source": [
        "2. Multiple Inheritance -A child class inherits from more than one parent class."
      ],
      "metadata": {
        "id": "NiKrN9J_9G4A"
      }
    },
    {
      "cell_type": "code",
      "source": [
        "class Parent1:\n",
        "    def show1(self):\n",
        "        print(\"This is Parent1\")\n",
        "\n",
        "class Parent2:\n",
        "    def show2(self):\n",
        "        print(\"This is Parent2\")\n",
        "\n",
        "class Child(Parent1, Parent2):\n",
        "    pass\n",
        "\n",
        "obj = Child()\n",
        "obj.show1()\n",
        "obj.show2()"
      ],
      "metadata": {
        "colab": {
          "base_uri": "https://localhost:8080/"
        },
        "id": "_lnadCtE9MJd",
        "outputId": "22524c4d-1fff-4b05-c542-78f0af8b8c01"
      },
      "execution_count": null,
      "outputs": [
        {
          "output_type": "stream",
          "name": "stdout",
          "text": [
            "This is Parent1\n",
            "This is Parent2\n"
          ]
        }
      ]
    },
    {
      "cell_type": "markdown",
      "source": [
        "3. Multilevel Inheritance - A child class inherits from a parent class, and then another class inherits from this child class."
      ],
      "metadata": {
        "id": "7SQ0js6P9O9J"
      }
    },
    {
      "cell_type": "code",
      "source": [
        "class Grandparent:\n",
        "    def show_grandparent(self):\n",
        "        print(\"This is the Grandparent class\")\n",
        "\n",
        "class Parent(Grandparent):\n",
        "    def show_parent(self):\n",
        "        print(\"This is the Parent class\")\n",
        "\n",
        "class Child(Parent):\n",
        "    pass\n",
        "\n",
        "obj = Child()\n",
        "obj.show_grandparent()\n",
        "obj.show_parent()"
      ],
      "metadata": {
        "colab": {
          "base_uri": "https://localhost:8080/"
        },
        "id": "HIYn6oYJ9V9Y",
        "outputId": "89aa3085-e975-48c0-a75d-316fdd1184ce"
      },
      "execution_count": null,
      "outputs": [
        {
          "output_type": "stream",
          "name": "stdout",
          "text": [
            "This is the Grandparent class\n",
            "This is the Parent class\n"
          ]
        }
      ]
    },
    {
      "cell_type": "markdown",
      "source": [
        "4. Hierarchical Inheritance - Multiple child classes inherit from the same parent class."
      ],
      "metadata": {
        "id": "bh2V1Xwb9ZPO"
      }
    },
    {
      "cell_type": "code",
      "source": [
        "class Parent:\n",
        "    def show(self):\n",
        "        print(\"This is the Parent class\")\n",
        "\n",
        "class Child1(Parent):\n",
        "    pass\n",
        "\n",
        "class Child2(Parent):\n",
        "    pass\n",
        "obj1 = Child1()\n",
        "obj2 = Child2()\n",
        "obj1.show()\n",
        "obj2.show()"
      ],
      "metadata": {
        "colab": {
          "base_uri": "https://localhost:8080/"
        },
        "id": "DjzBYfCc9eLX",
        "outputId": "416f6461-bbf8-4c4a-fdbe-d20cc1cb0664"
      },
      "execution_count": null,
      "outputs": [
        {
          "output_type": "stream",
          "name": "stdout",
          "text": [
            "This is the Parent class\n",
            "This is the Parent class\n"
          ]
        }
      ]
    },
    {
      "cell_type": "markdown",
      "source": [
        "5. Hybrid Inheritance- A combination of multiple types of inheritance."
      ],
      "metadata": {
        "id": "xRF-ZNit9pJo"
      }
    },
    {
      "cell_type": "code",
      "source": [
        "class Base:\n",
        "    def show_base(self):\n",
        "        print(\"This is the Base class\")\n",
        "\n",
        "class Child1(Base):\n",
        "    def show_child1(self):\n",
        "        print(\"This is Child1\")\n",
        "\n",
        "class Child2(Base):\n",
        "    def show_child2(self):\n",
        "        print(\"This is Child2\")\n",
        "\n",
        "class Grandchild(Child1, Child2):\n",
        "    pass\n",
        "\n",
        "obj = Grandchild()\n",
        "obj.show_base()\n",
        "obj.show_child1()\n",
        "obj.show_child2()"
      ],
      "metadata": {
        "colab": {
          "base_uri": "https://localhost:8080/"
        },
        "id": "THupguB19uOh",
        "outputId": "a148e0bf-1d90-4a73-dcca-5f1a2c1563be"
      },
      "execution_count": null,
      "outputs": [
        {
          "output_type": "stream",
          "name": "stdout",
          "text": [
            "This is the Base class\n",
            "This is Child1\n",
            "This is Child2\n"
          ]
        }
      ]
    },
    {
      "cell_type": "markdown",
      "source": [
        "Q7)What is the Method Resolution Order (MRO) in Python? How can you retrieve it programmatically?"
      ],
      "metadata": {
        "id": "UuyPL_2697_2"
      }
    },
    {
      "cell_type": "markdown",
      "source": [
        "The Method Resolution Order (MRO) in Python is the order in which Python looks for methods and attributes when they are called on an object. It determines the sequence in which base classes are searched, especially in the case of multiple inheritance.\n",
        "\n",
        "In multiple inheritance, MRO ensures that methods are called in the correct sequence.\n",
        "\n",
        "Python resolves conflicts using the C3 linearization algorithm to maintain a consistent order.\n",
        "\n",
        "The mro() method or __mro__ attribute can be used to inspect the resolution order programmatically."
      ],
      "metadata": {
        "id": "H8rHMWWI-VBi"
      }
    },
    {
      "cell_type": "code",
      "source": [
        "#Using the __mro__ attribute:\n",
        "class A: pass\n",
        "class B(A): pass\n",
        "class C(B): pass\n",
        "\n",
        "print(C.__mro__)"
      ],
      "metadata": {
        "colab": {
          "base_uri": "https://localhost:8080/"
        },
        "id": "Ml3QWCyo-l5K",
        "outputId": "758abe2d-a78a-42df-abdd-c391253c9c80"
      },
      "execution_count": null,
      "outputs": [
        {
          "output_type": "stream",
          "name": "stdout",
          "text": [
            "(<class '__main__.C'>, <class '__main__.B'>, <class '__main__.A'>, <class 'object'>)\n"
          ]
        }
      ]
    },
    {
      "cell_type": "code",
      "source": [
        "#Using the mro() method:\n",
        "print(C.mro())"
      ],
      "metadata": {
        "colab": {
          "base_uri": "https://localhost:8080/"
        },
        "id": "8Cmdk858-zrB",
        "outputId": "10c31c34-60d7-44e7-a0da-bbbe3cc9017c"
      },
      "execution_count": null,
      "outputs": [
        {
          "output_type": "stream",
          "name": "stdout",
          "text": [
            "[<class '__main__.C'>, <class '__main__.B'>, <class '__main__.A'>, <class 'object'>]\n"
          ]
        }
      ]
    },
    {
      "cell_type": "markdown",
      "source": [
        "Q8)Create an abstract base class `Shape` with an abstract method `area()`. Then create two subclasses\n",
        "`Circle` and `Rectangle` that implement the `area()` method?"
      ],
      "metadata": {
        "id": "qxeGDk-9_wza"
      }
    },
    {
      "cell_type": "code",
      "source": [
        "from abc import ABC, abstractmethod\n",
        "import math\n",
        "\n",
        "# Abstract base class\n",
        "class Shape(ABC):\n",
        "    @abstractmethod\n",
        "    def area(self):\n",
        "        pass\n",
        "\n",
        "# Subclass for Circle\n",
        "class Circle(Shape):\n",
        "    def __init__(self, radius):\n",
        "        self.radius = radius\n",
        "\n",
        "    def area(self):\n",
        "        return math.pi * self.radius ** 2\n",
        "\n",
        "# Subclass for Rectangle\n",
        "class Rectangle(Shape):\n",
        "    def __init__(self, width, height):\n",
        "        self.width = width\n",
        "        self.height = height\n",
        "\n",
        "    def area(self):\n",
        "        return self.width * self.height\n",
        "\n",
        "# Example usage\n",
        "circle = Circle(5)\n",
        "print(f\"Circle area: {circle.area()}\")\n",
        "\n",
        "rectangle = Rectangle(4, 6)\n",
        "print(f\"Rectangle area: {rectangle.area()}\")\n"
      ],
      "metadata": {
        "colab": {
          "base_uri": "https://localhost:8080/"
        },
        "id": "oEZce8C-BhrL",
        "outputId": "4521b2ef-3c65-4f61-be83-2fbdff8ebbc1"
      },
      "execution_count": null,
      "outputs": [
        {
          "output_type": "stream",
          "name": "stdout",
          "text": [
            "Circle area: 78.53981633974483\n",
            "Rectangle area: 24\n"
          ]
        }
      ]
    },
    {
      "cell_type": "markdown",
      "source": [
        "Q9)Demonstrate polymorphism by creating a function that can work with different shape objects to calculate\n",
        "and print their areas."
      ],
      "metadata": {
        "id": "r9Nqjgu1BwJc"
      }
    },
    {
      "cell_type": "code",
      "source": [
        "def print_area(shape):\n",
        "    \"\"\"\n",
        "    Function to calculate and print the area of a shape.\n",
        "    Accepts any object of a class derived from Shape.\n",
        "    \"\"\"\n",
        "    if isinstance(shape, Shape):  # Check if the object is a subclass of Shape\n",
        "        print(f\"The area of the {shape.__class__.__name__} is: {shape.area()}\")\n",
        "    else:\n",
        "        print(\"Invalid shape object.\")\n",
        "\n",
        "# Create instances of Circle and Rectangle\n",
        "circle = Circle(7)  # Circle with radius 5\n",
        "rectangle = Rectangle(2, 4)  # Rectangle with width 4 and height 6\n",
        "\n",
        "# Use the print_area function with different shapes\n",
        "print_area(circle)\n",
        "print_area(rectangle)\n"
      ],
      "metadata": {
        "colab": {
          "base_uri": "https://localhost:8080/"
        },
        "id": "6z3kP3hBCI2_",
        "outputId": "74535a0a-b28c-41d2-ec2b-bd7660c43d3f"
      },
      "execution_count": null,
      "outputs": [
        {
          "output_type": "stream",
          "name": "stdout",
          "text": [
            "The area of the Circle is: 153.93804002589985\n",
            "The area of the Rectangle is: 8\n"
          ]
        }
      ]
    },
    {
      "cell_type": "markdown",
      "source": [
        "Q10)Implement encapsulation in a `BankAccount` class with private attributes for `balance` and\n",
        "`account_number`. Include methods for deposit, withdrawal, and balance inquiry."
      ],
      "metadata": {
        "id": "C4OvcCgWCaW4"
      }
    },
    {
      "cell_type": "code",
      "source": [
        "class BankAccount:\n",
        "    def __init__(self, account_number, initial_balance=0):\n",
        "        self.__account_number = account_number  # Private attribute\n",
        "        self.__balance = initial_balance        # Private attribute\n",
        "\n",
        "    def deposit(self, amount):\n",
        "        if amount > 0:\n",
        "            self.__balance += amount\n",
        "            print(f\"Deposited {amount}. New balance: {self.__balance}\")\n",
        "        else:\n",
        "            print(\"Deposit amount must be positive.\")\n",
        "\n",
        "    def withdraw(self, amount):\n",
        "        if amount > 0:\n",
        "            if amount <= self.__balance:\n",
        "                self.__balance -= amount\n",
        "                print(f\"Withdrew {amount}. Remaining balance: {self.__balance}\")\n",
        "            else:\n",
        "                print(\"Insufficient balance.\")\n",
        "        else:\n",
        "            print(\"Withdrawal amount must be positive.\")\n",
        "\n",
        "    def get_balance(self):\n",
        "        return self.__balance\n",
        "\n",
        "    def get_account_number(self):\n",
        "        return self.__account_number\n",
        "\n",
        "# Example usage\n",
        "account = BankAccount(\"12345678\", 500)\n",
        "\n",
        "# Deposit money\n",
        "account.deposit(200)\n",
        "\n",
        "# Withdraw money\n",
        "account.withdraw(100)\n",
        "\n",
        "# Check balance\n",
        "print(f\"Current balance: {account.get_balance()}\")\n",
        "\n",
        "# Access account number\n",
        "print(f\"Account Number: {account.get_account_number()}\")\n"
      ],
      "metadata": {
        "colab": {
          "base_uri": "https://localhost:8080/"
        },
        "id": "DRcr0m71CexD",
        "outputId": "66016424-eb81-492f-a713-a86f2b5003e4"
      },
      "execution_count": null,
      "outputs": [
        {
          "output_type": "stream",
          "name": "stdout",
          "text": [
            "Deposited 200. New balance: 700\n",
            "Withdrew 100. Remaining balance: 600\n",
            "Current balance: 600\n",
            "Account Number: 12345678\n"
          ]
        }
      ]
    },
    {
      "cell_type": "markdown",
      "source": [
        "Q11)Write a class that overrides the `__str__` and `__add__` magic methods. What will these methods allow\n",
        "you to do?"
      ],
      "metadata": {
        "id": "G1QHp8mJC7Lw"
      }
    },
    {
      "cell_type": "code",
      "source": [
        "class Point:\n",
        "    def __init__(self, x, y):\n",
        "        self.x = x\n",
        "        self.y = y\n",
        "\n",
        "    def __str__(self):\n",
        "        \"\"\"\n",
        "        Overrides the default string representation of the object.\n",
        "        Provides a human-readable string for the Point object.\n",
        "        \"\"\"\n",
        "        return f\"Point({self.x}, {self.y})\"\n",
        "\n",
        "    def __add__(self, other):\n",
        "        \"\"\"\n",
        "        Overrides the `+` operator to allow addition of two Point objects.\n",
        "        \"\"\"\n",
        "        if isinstance(other, Point):\n",
        "            return Point(self.x + other.x, self.y + other.y)\n",
        "        return NotImplemented\n",
        "\n",
        "# Example usage\n",
        "point1 = Point(2, 3)\n",
        "point2 = Point(4, 5)\n",
        "\n",
        "# Using __str__\n",
        "print(point1)\n",
        "\n",
        "# Using __add__\n",
        "point3 = point1 + point2\n",
        "print(point3)\n"
      ],
      "metadata": {
        "colab": {
          "base_uri": "https://localhost:8080/"
        },
        "id": "sEOepcQEDImj",
        "outputId": "f4072320-0734-4928-ca72-612e0e8dd6cb"
      },
      "execution_count": null,
      "outputs": [
        {
          "output_type": "stream",
          "name": "stdout",
          "text": [
            "Point(2, 3)\n",
            "Point(6, 8)\n"
          ]
        }
      ]
    },
    {
      "cell_type": "markdown",
      "source": [
        "What these methods allow you to do:\n",
        "\n",
        "__str__:\n",
        "\n",
        "Overrides the string representation of an object.\n",
        "\n",
        "When you use print(object) or str(object), the __str__ method is called.\n",
        "\n",
        "This makes it easier to get a human-readable output of the object.\n",
        "\n",
        "__add__:\n",
        "\n",
        "Overrides the + operator for the class.\n",
        "\n",
        "Allows you to define custom behavior for adding two objects of the class.\n",
        "\n",
        "In this example, adding two Point objects results in a new Point object with the sum of their respective x and y values."
      ],
      "metadata": {
        "id": "lgg8XgXsDZUA"
      }
    },
    {
      "cell_type": "markdown",
      "source": [
        "Q12)Create a decorator that measures and prints the execution time of a function."
      ],
      "metadata": {
        "id": "Q3qllw8QDsuf"
      }
    },
    {
      "cell_type": "code",
      "source": [
        "import time\n",
        "\n",
        "def measure_execution_time(func):\n",
        "    \"\"\"\n",
        "    Decorator to measure and print the execution time of a function.\n",
        "    \"\"\"\n",
        "    def wrapper(*args, **kwargs):\n",
        "        start_time = time.time()  # Record start time\n",
        "        result = func(*args, **kwargs)\n",
        "        end_time = time.time()  # Record end time\n",
        "        execution_time = end_time - start_time\n",
        "        print(f\"Execution time of {func.__name__}: {execution_time:.6f} seconds\")\n",
        "        return result\n",
        "    return wrapper\n",
        "\n",
        "# Example usage\n",
        "@measure_execution_time\n",
        "def example_function(n):\n",
        "    # Simulate a task by sleeping for n seconds\n",
        "    time.sleep(n)\n",
        "    return f\"Finished sleeping for {n} seconds.\"\n",
        "\n",
        "# Test the decorator\n",
        "print(example_function(2))\n"
      ],
      "metadata": {
        "colab": {
          "base_uri": "https://localhost:8080/"
        },
        "id": "DNknObUQDwtR",
        "outputId": "cc5a9c07-e63e-4c36-cade-7227700cffd2"
      },
      "execution_count": null,
      "outputs": [
        {
          "output_type": "stream",
          "name": "stdout",
          "text": [
            "Execution time of example_function: 2.001934 seconds\n",
            "Finished sleeping for 2 seconds.\n"
          ]
        }
      ]
    },
    {
      "cell_type": "markdown",
      "source": [
        "Q13)Explain the concept of the Diamond Problem in multiple inheritance. How does Python resolve it?"
      ],
      "metadata": {
        "id": "ImfQcjrlD795"
      }
    },
    {
      "cell_type": "markdown",
      "source": [
        "The Diamond Problem is a common issue in object-oriented programming when a class inherits from multiple classes that ultimately inherit from a common base class.\n",
        "\n",
        "The Diamond Problem in Detail\n",
        "\n",
        "Consider four classes: A, B, C, and D.\n",
        "\n",
        "B and C inherit from A.\n",
        "\n",
        "D inherits from both B and C."
      ],
      "metadata": {
        "id": "2GXjCSA7BO3i"
      }
    },
    {
      "cell_type": "code",
      "source": [
        "class A:\n",
        "    def show(self):\n",
        "        print(\"A\")\n",
        "\n",
        "class B(A):\n",
        "    def show(self):\n",
        "        print(\"B\")\n",
        "        super().show()\n",
        "\n",
        "class C(A):\n",
        "    def show(self):\n",
        "        print(\"C\")\n",
        "        super().show()\n",
        "\n",
        "class D(B, C):\n",
        "    def show(self):\n",
        "        print(\"D\")\n",
        "        super().show()\n",
        "\n",
        "# Instantiate D and call show\n",
        "d = D()\n",
        "d.show()\n"
      ],
      "metadata": {
        "colab": {
          "base_uri": "https://localhost:8080/"
        },
        "id": "-S2TzxrwBkax",
        "outputId": "a387f8c3-69b4-48f5-9dac-886bf6e6cd97"
      },
      "execution_count": null,
      "outputs": [
        {
          "output_type": "stream",
          "name": "stdout",
          "text": [
            "D\n",
            "B\n",
            "C\n",
            "A\n"
          ]
        }
      ]
    },
    {
      "cell_type": "markdown",
      "source": [
        "**Python's Approach to Resolving the Diamond Problem**\n",
        "\n",
        "Python uses a method resolution order (MRO) to handle this issue, thanks to its implementation of the C3 Linearization Algorithm. Here's how Python resolves it:\n",
        "\n",
        "**MRO (Method Resolution Order):**\n",
        "\n",
        "Python determines the order in which classes are searched when calling a method.\n",
        "\n",
        "For D in the diamond example, the MRO is computed as [D, B, C, A].\n",
        "\n",
        "**Linearization Rules:**\n",
        "\n",
        "The MRO is determined such that:\n",
        "\n",
        "A class appears before its base classes.\n",
        "The order of base classes in the class definition is preserved.\n",
        "It ensures no contradictions in the inheritance hierarchy.\n",
        "\n",
        "Super and Cooperative Methods:\n",
        "\n",
        "Python encourages the use of the super() function for cooperative method calls. This ensures that each class in the MRO gets a chance to contribute to the method execution."
      ],
      "metadata": {
        "id": "8PBIhz-tBvnC"
      }
    },
    {
      "cell_type": "markdown",
      "source": [
        "14)Write a class method that keeps track of the number of instances created from a class."
      ],
      "metadata": {
        "id": "nHztscBNC5tv"
      }
    },
    {
      "cell_type": "code",
      "source": [
        "class InstanceCounter:\n",
        "    _instance_count = 0  # Class attribute to track the number of instances\n",
        "\n",
        "    def __init__(self):\n",
        "        # Increment the counter every time an instance is created\n",
        "        InstanceCounter._instance_count += 1\n",
        "\n",
        "    @classmethod\n",
        "    def get_instance_count(cls):\n",
        "        # Return the current count of instances\n",
        "        return cls._instance_count\n",
        "\n",
        "\n",
        "# Example usage:\n",
        "obj1 = InstanceCounter()\n",
        "obj2 = InstanceCounter()\n",
        "obj3 = InstanceCounter()\n",
        "\n",
        "print(\"Number of instances created:\", InstanceCounter.get_instance_count())\n"
      ],
      "metadata": {
        "colab": {
          "base_uri": "https://localhost:8080/"
        },
        "id": "-GwQ6uekDHsJ",
        "outputId": "72531281-5158-462b-c879-6b9296e1de68"
      },
      "execution_count": null,
      "outputs": [
        {
          "output_type": "stream",
          "name": "stdout",
          "text": [
            "Number of instances created: 3\n"
          ]
        }
      ]
    },
    {
      "cell_type": "markdown",
      "source": [
        "Q15)Implement a static method in a class that checks if a given year is a leap year."
      ],
      "metadata": {
        "id": "D5mgpE71DMGg"
      }
    },
    {
      "cell_type": "code",
      "source": [
        "class YearUtility:\n",
        "    @staticmethod\n",
        "    def is_leap_year(year):\n",
        "        \"\"\"\n",
        "        Check if a given year is a leap year.\n",
        "        A leap year is:\n",
        "        - Divisible by 4\n",
        "        - Not divisible by 100, unless also divisible by 400\n",
        "        \"\"\"\n",
        "        if (year % 4 == 0 and year % 100 != 0) or (year % 400 == 0):\n",
        "            return True\n",
        "        return False\n",
        "\n",
        "\n",
        "# Example usage:\n",
        "print(YearUtility.is_leap_year(2024))\n",
        "print(YearUtility.is_leap_year(2023))\n",
        "print(YearUtility.is_leap_year(1900))\n",
        "print(YearUtility.is_leap_year(2000))\n"
      ],
      "metadata": {
        "colab": {
          "base_uri": "https://localhost:8080/"
        },
        "id": "vovGhDaFDbT2",
        "outputId": "0e99fce6-d265-4334-dab6-3feea6b196ea"
      },
      "execution_count": null,
      "outputs": [
        {
          "output_type": "stream",
          "name": "stdout",
          "text": [
            "True\n",
            "False\n",
            "False\n",
            "True\n"
          ]
        }
      ]
    }
  ]
}