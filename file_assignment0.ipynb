{
  "nbformat": 4,
  "nbformat_minor": 0,
  "metadata": {
    "colab": {
      "provenance": [],
      "authorship_tag": "ABX9TyPpwCS4pmVVG2x8luiEsEgS",
      "include_colab_link": true
    },
    "kernelspec": {
      "name": "python3",
      "display_name": "Python 3"
    },
    "language_info": {
      "name": "python"
    }
  },
  "cells": [
    {
      "cell_type": "markdown",
      "metadata": {
        "id": "view-in-github",
        "colab_type": "text"
      },
      "source": [
        "<a href=\"https://colab.research.google.com/github/NehaKumarink/Python-DA-Assignment/blob/main/file_assignment0.ipynb\" target=\"_parent\"><img src=\"https://colab.research.google.com/assets/colab-badge.svg\" alt=\"Open In Colab\"/></a>"
      ]
    },
    {
      "cell_type": "markdown",
      "source": [
        "Q1)What is the difference between interpreted and compiled languages?\n",
        "\n"
      ],
      "metadata": {
        "id": "vF2gmKDR5CAE"
      }
    },
    {
      "cell_type": "markdown",
      "source": [
        "A compiled language is a programming language that is converted into machine code so that the processor can execute it.\n",
        "\n",
        "The compiled languages are usually compiled, not interpreted.\n",
        "\n",
        "For better understanding you can go through the types of compiled language – CLEO, COBOL, C, C++, C#, etc."
      ],
      "metadata": {
        "id": "Nwfpy6Ze5wmg"
      }
    },
    {
      "cell_type": "markdown",
      "source": [
        "An interpreted language is also a programming language that is commonly interpreted.\n",
        "\n",
        "In this, the implementations perform instructions directly and easily, without compiling a program into machine-language instructions.\n",
        "\n",
        "For better understanding, you can go through the types of the interpreted languages: Python, BASIC, JavaScript, Perl, etc."
      ],
      "metadata": {
        "id": "qvknJAAP598R"
      }
    },
    {
      "cell_type": "markdown",
      "source": [
        "Q2)What is exception handling in Python?\n"
      ],
      "metadata": {
        "id": "UH7pviXe6E6O"
      }
    },
    {
      "cell_type": "markdown",
      "source": [
        "When an error occurs, or exception as we call it, Python will normally stop and generate an error message.\n",
        "\n",
        "These exceptions can be handled using the try statement:"
      ],
      "metadata": {
        "id": "CLYIjo1y6LeH"
      }
    },
    {
      "cell_type": "code",
      "source": [
        "# ExampleGet your own Python Server The try block will generate an exception, because x is not defined:\n",
        "try:\n",
        "  print(x)\n",
        "except:\n",
        "  print(\"An exception occurred\")\n"
      ],
      "metadata": {
        "colab": {
          "base_uri": "https://localhost:8080/"
        },
        "id": "hnxuvP8N6pHc",
        "outputId": "1e3aad6c-7557-473d-cfa5-dcdd4e8dcd8e"
      },
      "execution_count": null,
      "outputs": [
        {
          "output_type": "stream",
          "name": "stdout",
          "text": [
            "An exception occurred\n"
          ]
        }
      ]
    },
    {
      "cell_type": "markdown",
      "source": [
        "Q3)What is the purpose of the finally block in exception handling ?"
      ],
      "metadata": {
        "id": "Qvwo3WvH69QB"
      }
    },
    {
      "cell_type": "markdown",
      "source": [
        "The finally keyword is used in try...except blocks. It defines a block of code to run when the try...except...else block is final.\n",
        "\n",
        "The finally block will be executed no matter if the try block raises an error or not.\n",
        "\n",
        "This can be useful to close objects and clean up resources."
      ],
      "metadata": {
        "id": "_wXmNQ6F7WUW"
      }
    },
    {
      "cell_type": "code",
      "source": [
        "# Example- The finally block will always be executed, no matter if the try block raises an error or not:\n",
        "try:\n",
        "  x > 3\n",
        "except:\n",
        "  print(\"Something went wrong\")\n",
        "else:\n",
        "  print(\"Nothing went wrong\")\n",
        "finally:\n",
        "  print(\"The try...except block is finished\")"
      ],
      "metadata": {
        "colab": {
          "base_uri": "https://localhost:8080/"
        },
        "id": "EDqQ3crb7ibF",
        "outputId": "c9a058cc-e623-4601-cafe-89cba55e895b"
      },
      "execution_count": null,
      "outputs": [
        {
          "output_type": "stream",
          "name": "stdout",
          "text": [
            "Something went wrong\n",
            "The try...except block is finished\n"
          ]
        }
      ]
    },
    {
      "cell_type": "markdown",
      "source": [
        "Q4)What is logging in Python ?"
      ],
      "metadata": {
        "id": "F1ha6kJX7ubV"
      }
    },
    {
      "cell_type": "markdown",
      "source": [
        "Logging is a Python module in the standard library that provides the facility to work with the framework for releasing log messages from the Python programs.\n",
        "\n",
        "Logging is used to tracking events that occur when the software runs.\n",
        "\n",
        "This module is widely used by the developers when they work to logging.\n",
        "\n",
        "It is very important tool which used in software development, running, and debugging.\n",
        "\n",
        "Logging is beneficial to store the logging records.\n",
        "\n",
        "Suppose there is no logging record, and the program is interrupted during its execution, we will be unable to find the actual cause of the problem."
      ],
      "metadata": {
        "id": "PyErTahv8HIk"
      }
    },
    {
      "cell_type": "markdown",
      "source": [
        "Q5)What is the significance of the __del__ method in Python?\n"
      ],
      "metadata": {
        "id": "A7Zi4kFR8QWb"
      }
    },
    {
      "cell_type": "markdown",
      "source": [
        "The __del__ method is a special method in Python that is called when an object is about to be destroyed.\n",
        "\n",
        "It allows you to define specific cleanup actions that should be taken when an object is garbage collected.\n",
        "\n",
        "This method can be particularly useful for releasing external resources such as file handles, network connections, or database connections that the object may hold."
      ],
      "metadata": {
        "id": "yoLBoCQ48kkC"
      }
    },
    {
      "cell_type": "code",
      "source": [
        "# example, the __del__ method is used to print a message when an object is destroyed.\n",
        "class SimpleObject:\n",
        "    def __init__(self, name):\n",
        "        self.name = name\n",
        "\n",
        "    def __del__(self):\n",
        "        print(f\"SimpleObject '{self.name}' is being destroyed.\")\n",
        "\n",
        "# Creating and deleting an object\n",
        "obj = SimpleObject('A')\n",
        "del obj  # Explicitly deleting the object"
      ],
      "metadata": {
        "colab": {
          "base_uri": "https://localhost:8080/"
        },
        "id": "5DUUncAn9HTK",
        "outputId": "2256984a-bffe-4cb5-a281-016f21d4093b"
      },
      "execution_count": null,
      "outputs": [
        {
          "output_type": "stream",
          "name": "stdout",
          "text": [
            "SimpleObject 'A' is being destroyed.\n"
          ]
        }
      ]
    },
    {
      "cell_type": "markdown",
      "source": [
        "Q6)What is the difference between import and from ... import in Python?"
      ],
      "metadata": {
        "id": "6H8Z17IU9Ric"
      }
    },
    {
      "cell_type": "markdown",
      "source": [
        "In Python, both import and from ... import are used to bring in functionality from modules, but they have different purposes and behaviors\n",
        "\n",
        "**The import statement** imports the entire module, allowing access to its functions, classes, and variables through the module name.\n",
        "\n",
        "**from ... import**\n",
        "The from ... import statement imports specific items (like functions, classes, or variables) directly from the module."
      ],
      "metadata": {
        "id": "RIxW-Hw59dB1"
      }
    },
    {
      "cell_type": "code",
      "source": [
        "#Example\n",
        "import math\n",
        "print(math.sqrt(16))  # Access using the module name"
      ],
      "metadata": {
        "colab": {
          "base_uri": "https://localhost:8080/"
        },
        "id": "HRd0-uHZMak-",
        "outputId": "c4b87ed4-08a7-42bf-aa1a-8cbdf47cda25"
      },
      "execution_count": null,
      "outputs": [
        {
          "output_type": "stream",
          "name": "stdout",
          "text": [
            "4.0\n"
          ]
        }
      ]
    },
    {
      "cell_type": "code",
      "source": [
        "#Example\n",
        "from math import sqrt\n",
        "print(sqrt(16))"
      ],
      "metadata": {
        "colab": {
          "base_uri": "https://localhost:8080/"
        },
        "id": "y7QOm7WNMjw7",
        "outputId": "1ed0ee6a-f0c2-4733-aea4-6fb3a7f08407"
      },
      "execution_count": null,
      "outputs": [
        {
          "output_type": "stream",
          "name": "stdout",
          "text": [
            "4.0\n"
          ]
        }
      ]
    },
    {
      "cell_type": "markdown",
      "source": [
        "Q7)How can you handle multiple exceptions in Python?\n"
      ],
      "metadata": {
        "id": "G43DviNUMy70"
      }
    },
    {
      "cell_type": "markdown",
      "source": [
        "In Python, you can handle multiple exceptions in several ways, depending on your needs.\n",
        "\n",
        "Here are some common approaches:"
      ],
      "metadata": {
        "id": "oVAZDBJvOAUX"
      }
    },
    {
      "cell_type": "code",
      "source": [
        "#Example- Using Multiple except Blocks\n",
        "try:\n",
        "    # Code that may raise an exception\n",
        "    x = int(\"not a number\")\n",
        "except ValueError:\n",
        "    print(\"Caught a ValueError!\")\n",
        "except ZeroDivisionError:\n",
        "    print(\"Caught a ZeroDivisionError!\")"
      ],
      "metadata": {
        "colab": {
          "base_uri": "https://localhost:8080/"
        },
        "id": "rLwSssfVOC-Y",
        "outputId": "7e309c29-6321-4038-da88-f188944c730e"
      },
      "execution_count": null,
      "outputs": [
        {
          "output_type": "stream",
          "name": "stdout",
          "text": [
            "Caught a ValueError!\n"
          ]
        }
      ]
    },
    {
      "cell_type": "code",
      "source": [
        "#Example- Catching Multiple Exceptions in a Single except Block\n",
        "try:\n",
        "    # Code that may raise an exception\n",
        "    x = int(\"not a number\")\n",
        "except (ValueError, TypeError) as e:\n",
        "    print(f\"Caught an exception: {e}\")"
      ],
      "metadata": {
        "colab": {
          "base_uri": "https://localhost:8080/"
        },
        "id": "ZuHZFrcoOTrM",
        "outputId": "a8a3f4a3-e43a-4756-ab7b-39c590c2809f"
      },
      "execution_count": null,
      "outputs": [
        {
          "output_type": "stream",
          "name": "stdout",
          "text": [
            "Caught an exception: invalid literal for int() with base 10: 'not a number'\n"
          ]
        }
      ]
    },
    {
      "cell_type": "code",
      "source": [
        "# Example- Using a Generic except Block\n",
        "try:\n",
        "    # Code that may raise an exception\n",
        "    x = int(\"not a number\")\n",
        "except Exception as e:\n",
        "    print(f\"Caught an exception: {e}\")"
      ],
      "metadata": {
        "colab": {
          "base_uri": "https://localhost:8080/"
        },
        "id": "p0xiAtKrOfmj",
        "outputId": "5f3beb57-2641-47b2-c7ca-4201bb43b251"
      },
      "execution_count": null,
      "outputs": [
        {
          "output_type": "stream",
          "name": "stdout",
          "text": [
            "Caught an exception: invalid literal for int() with base 10: 'not a number'\n"
          ]
        }
      ]
    },
    {
      "cell_type": "markdown",
      "source": [
        "Q8)What is the purpose of the with statement when handling files in Python?"
      ],
      "metadata": {
        "id": "sBsx1B3HOssU"
      }
    },
    {
      "cell_type": "markdown",
      "source": [
        "The with statement ensures proper resource management when handling files. It automatically closes the file after the block ends, even if an exception occurs, making the code cleaner and preventing resource leaks."
      ],
      "metadata": {
        "id": "eXar7mUvPFmz"
      }
    },
    {
      "cell_type": "code",
      "source": [
        "# using with statement\n",
        "with open('file_path', 'w') as file:\n",
        "    file.write('hello world !')"
      ],
      "metadata": {
        "id": "yYK0sqXwPmqq"
      },
      "execution_count": null,
      "outputs": []
    },
    {
      "cell_type": "markdown",
      "source": [
        "Q9)What is the difference between multithreading and multiprocessing?"
      ],
      "metadata": {
        "id": "NcfBg84lQUFG"
      }
    },
    {
      "cell_type": "markdown",
      "source": [
        "**Multithreading** is a system in which multiple threads are created of a process for increasing the computing speed of the system.\n",
        "\n",
        "In multithreading, many threads of a process are executed simultaneously and process creation in multithreading is done according to economical.\n",
        "\n",
        "**Multiprocessing** is a system that has more than one or two processors.\n",
        "In Multiprocessing, CPUs are added to increase the computing speed of the system. Because of Multiprocessing, There are many processes are executed simultaneously."
      ],
      "metadata": {
        "id": "2qAKaXEzRBzc"
      }
    },
    {
      "cell_type": "code",
      "source": [
        "#Example- Multithreading\n",
        "import threading\n",
        "\n",
        "def print_numbers():\n",
        "    for i in range(5):\n",
        "        print(i)\n",
        "\n",
        "thread1 = threading.Thread(target=print_numbers)\n",
        "thread2 = threading.Thread(target=print_numbers)\n",
        "\n",
        "thread1.start()\n",
        "thread2.start()\n",
        "\n",
        "thread1.join()\n",
        "thread2.join()\n"
      ],
      "metadata": {
        "colab": {
          "base_uri": "https://localhost:8080/"
        },
        "id": "ozHKWJPnRtNN",
        "outputId": "77e8e205-17ed-467d-808b-ec9011e5078e"
      },
      "execution_count": null,
      "outputs": [
        {
          "output_type": "stream",
          "name": "stdout",
          "text": [
            "0\n",
            "1\n",
            "2\n",
            "30\n",
            "4\n",
            "\n",
            "1\n",
            "2\n",
            "3\n",
            "4\n"
          ]
        }
      ]
    },
    {
      "cell_type": "code",
      "source": [
        "#Example\n",
        "import multiprocessing\n",
        "\n",
        "def print_numbers():\n",
        "    for i in range(5):\n",
        "        print(i)\n",
        "\n",
        "process1 = multiprocessing.Process(target=print_numbers)\n",
        "process2 = multiprocessing.Process(target=print_numbers)\n",
        "\n",
        "process1.start()\n",
        "process2.start()\n",
        "\n",
        "process1.join()\n",
        "process2.join()\n"
      ],
      "metadata": {
        "colab": {
          "base_uri": "https://localhost:8080/"
        },
        "id": "2DzbFjHuR0j1",
        "outputId": "fa79d297-c0d5-4911-dfd6-0f28223728ba"
      },
      "execution_count": null,
      "outputs": [
        {
          "output_type": "stream",
          "name": "stdout",
          "text": [
            "0\n",
            "01\n",
            "1\n",
            "\n",
            "22\n",
            "\n",
            "33\n",
            "\n",
            "44\n",
            "\n"
          ]
        }
      ]
    },
    {
      "cell_type": "markdown",
      "source": [
        "Q10)What are the advantages of using logging in a program?"
      ],
      "metadata": {
        "id": "2TthCsDICJFV"
      }
    },
    {
      "cell_type": "markdown",
      "source": [
        "The advantages of using logging in Python are:\n",
        "\n",
        "Error Tracking: Logs errors and exceptions for easier debugging.\n",
        "\n",
        "Custom Levels: Control verbosity with levels like DEBUG, INFO, WARNING, ERROR, CRITICAL.\n",
        "\n",
        "Centralized Logs: Save logs to files, databases, or external tools.\n",
        "\n",
        "Real-Time Monitoring: Monitor application behavior without interrupting execution.\n",
        "\n",
        "Traceability: Includes timestamps and context for better issue analysis.\n",
        "\n",
        "Scalability: Works in distributed systems for unified log management.\n",
        "\n",
        "Third-Party Integration: Compatible with monitoring and analytics tools."
      ],
      "metadata": {
        "id": "iZ_rpBoPC8QW"
      }
    },
    {
      "cell_type": "markdown",
      "source": [
        "Q11)What is memory management in Python?"
      ],
      "metadata": {
        "id": "5F7CXu9jR90J"
      }
    },
    {
      "cell_type": "markdown",
      "source": [
        "Memory management in Python involves the efficient allocation, use, and deallocation of memory for variables, objects, and data structures during program execution. Python has a built-in memory management system that automates most of this process, making it easier for developers.\n",
        "\n",
        "Key Components of Memory Management in Python\n",
        "\n",
        "-Dynamic Memory Allocation\n",
        "\n",
        "-Heap Memory\n",
        "\n",
        "-Reference Counting"
      ],
      "metadata": {
        "id": "4FI3rlkkSZik"
      }
    },
    {
      "cell_type": "markdown",
      "source": [
        "Q12)What are the basic steps involved in exception handling in Python?"
      ],
      "metadata": {
        "id": "loNRMqhnTGVE"
      }
    },
    {
      "cell_type": "markdown",
      "source": [
        "Basic Steps in Exception Handling in Python:\n",
        "\n",
        "Wrap Code in try: Place error-prone code in a try block.\n",
        "\n",
        "Handle Errors with except: Add except blocks to catch specific or general exceptions.\n",
        "\n",
        "Use else (Optional): Add an else block to run code if no exception occurs.\n",
        "\n",
        "Clean Up with finally: Add a finally block to execute code regardless of exceptions (e.g., closing files).\n",
        "\n",
        "Raise Exceptions (Optional): Use raise to throw exceptions explicitly.\n"
      ],
      "metadata": {
        "id": "8K5cUYSST6cu"
      }
    },
    {
      "cell_type": "markdown",
      "source": [
        "Q13)Why is memory management important in Python?"
      ],
      "metadata": {
        "id": "Xk3wFovWU3M1"
      }
    },
    {
      "cell_type": "markdown",
      "source": [
        "Memory management is important in Python for the following reasons:\n",
        "\n",
        "**Efficient Resource Utilization**: Ensures optimal use of available memory, preventing waste and improving program performance.\n",
        "\n",
        "**Automatic Garbage Collection**: Python automatically deallocates unused objects, reducing the risk of memory leaks and allowing developers to focus on logic instead of manual memory handling.\n",
        "\n",
        "**Scalability**: Effective memory management allows Python programs to handle large datasets or complex tasks without running out of memory.\n",
        "\n",
        "**Prevents Crashes**: Proper memory handling avoids scenarios where a program consumes all system memory, causing it to crash.\n",
        "\n",
        "**Improved Debugging**: With built-in tools like gc and tracemalloc, Python makes it easier to identify and resolve memory-related issues.\n",
        "\n",
        "**Safety**: Automated memory management reduces the chances of errors like dangling pointers, common in languages with manual memory control."
      ],
      "metadata": {
        "id": "vhJ1yv1KVWjI"
      }
    },
    {
      "cell_type": "markdown",
      "source": [
        "Q14)What is the role of try and except in exception handling?"
      ],
      "metadata": {
        "id": "8YR_9rTDViV6"
      }
    },
    {
      "cell_type": "markdown",
      "source": [
        "try:\n",
        "\n",
        "Contains the code that might raise an exception.\n",
        "Python attempts to execute the code in the try block.\n",
        "\n",
        "except:\n",
        "\n",
        "Catches and handles exceptions that occur in the try block.\n",
        "Defines what action to take when a specific exception or error is encountered (e.g., displaying an error message)."
      ],
      "metadata": {
        "id": "CkYJAyv4V2mZ"
      }
    },
    {
      "cell_type": "code",
      "source": [
        "#Example\n",
        "try:\n",
        "    x = 10 / 0  # Raises ZeroDivisionError\n",
        "except ZeroDivisionError:\n",
        "    print(\"Cannot divide by zero.\")"
      ],
      "metadata": {
        "id": "Ry3DYQdrWCbI"
      },
      "execution_count": null,
      "outputs": []
    },
    {
      "cell_type": "markdown",
      "source": [
        "Q15)How does Python's garbage collection system work?"
      ],
      "metadata": {
        "id": "xWapjC88YKWX"
      }
    },
    {
      "cell_type": "markdown",
      "source": [
        "Python's garbage collection system manages memory by using reference counting and cyclic garbage collection.\n",
        "\n",
        "**Reference Counting**: Tracks how many references point to an object. When the count reaches zero, the object is deallocated.\n",
        "\n",
        "**Cyclic Garbage Collectio**n: Detects and cleans up reference cycles (objects referencing each other) that reference counting can't handle.\n",
        "\n",
        "**Generational Approach**: Divides objects into generations to optimize memory cleanup, checking newer objects more frequently.\n",
        "\n",
        "The gc module allows manual control, like forcing garbage collection with gc.collect()."
      ],
      "metadata": {
        "id": "0mMMWovNYh17"
      }
    },
    {
      "cell_type": "markdown",
      "source": [
        "Q16)What is the purpose of the else block in exception handling?"
      ],
      "metadata": {
        "id": "xZbCHcHAZ-sk"
      }
    },
    {
      "cell_type": "markdown",
      "source": [
        "The purpose of the else block in exception handling in Python is to define code that should run only if no exception occurs in the try block.\n",
        "\n",
        "It helps separate normal execution from error handling, improving code clarity and organization."
      ],
      "metadata": {
        "id": "OGHkeUeKaNg0"
      }
    },
    {
      "cell_type": "code",
      "source": [
        "try:\n",
        "    num = int(input(\"Enter a number: \"))\n",
        "    result = 10 / num\n",
        "except ZeroDivisionError:\n",
        "    print(\"Cannot divide by zero.\")\n",
        "except ValueError:\n",
        "    print(\"Invalid input.\")\n",
        "else:\n",
        "    print(f\"Result is {result}\")"
      ],
      "metadata": {
        "colab": {
          "base_uri": "https://localhost:8080/"
        },
        "id": "2_32cVCearXV",
        "outputId": "f34c5f5b-199a-41f2-8638-b56af6e0e7ce"
      },
      "execution_count": null,
      "outputs": [
        {
          "output_type": "stream",
          "name": "stdout",
          "text": [
            "Enter a number: 1\n",
            "Result is 10.0\n"
          ]
        }
      ]
    },
    {
      "cell_type": "markdown",
      "source": [
        "Q17)What are the common logging levels in Python?"
      ],
      "metadata": {
        "id": "4JEdtfIfa33b"
      }
    },
    {
      "cell_type": "markdown",
      "source": [
        "The common logging levels in Python are:\n",
        "\n",
        "**DEBUG**: Detailed information for debugging.\n",
        "\n",
        "**INFO**: General information about the program's execution.\n",
        "\n",
        "**WARNING**: Potential issues that don't stop the program.\n",
        "\n",
        "**ERROR**: Serious problems that affect functionality.\n",
        "\n",
        "**CRITICAL**: Very severe errors that may stop the program."
      ],
      "metadata": {
        "id": "VFvSjSJObAXN"
      }
    },
    {
      "cell_type": "markdown",
      "source": [
        " Q18)What is the difference between os.fork() and multiprocessing in Python?"
      ],
      "metadata": {
        "id": "-OUP8mw3bd2K"
      }
    },
    {
      "cell_type": "markdown",
      "source": [
        "The difference between os.fork() and multiprocessing in Python:\n",
        "\n",
        "**os.fork():**\n",
        "\n",
        "System Call: os.fork() is a system call in Unix-based systems that creates a child process by duplicating the current process.\n",
        "\n",
        "Low-Level: It's a low-level method for process creation, available only on Unix-like systems (Linux, macOS).\n",
        "\n",
        "Parent-Child Process: The parent process and child process run independently, and each has its own memory space.\n",
        "\n",
        "GIL: Since os.fork() creates a child process, the Global Interpreter Lock (GIL) does not affect parallelism between processes.\n",
        "\n",
        "**multiprocessing**:\n",
        "\n",
        "High-Level API: multiprocessing is a high-level Python module that provides easy-to-use tools for creating and managing processes across platforms (including Windows).\n",
        "\n",
        "Cross-Platform: Works on both Unix and Windows, unlike os.fork(), which is Unix-specific.\n",
        "\n",
        "Process-Based Parallelism: It allows for true parallelism by spawning separate processes that do not share memory, avoiding the GIL.\n",
        "\n",
        "Ease of Use: Provides abstractions like Process, Queue, and Pool for parallel programming."
      ],
      "metadata": {
        "id": "svHr6lZbbzwE"
      }
    },
    {
      "cell_type": "markdown",
      "source": [
        "Q19)What is the importance of closing a file in Python?"
      ],
      "metadata": {
        "id": "4dcy6ufnccCr"
      }
    },
    {
      "cell_type": "markdown",
      "source": [
        "Closing a file in Python is important for the following reasons:\n",
        "\n",
        "**Resource Management**: When a file is opened, the operating system allocates resources (e.g., file handles). Closing the file releases these resources, preventing resource leaks.\n",
        "\n",
        "**Data Integrity**: Closing the file ensures that any buffered data is written to disk. If a file isn't closed, some data may not be saved, leading to potential data loss.\n",
        "\n",
        "**File Locking**: In some systems, files may be locked when opened. Closing the file releases the lock, allowing other processes or programs to access the file.\n",
        "\n",
        "**Avoiding Errors**: Failing to close files can lead to issues like running out of file handles, especially when dealing with many files or in long-running programs."
      ],
      "metadata": {
        "id": "ErYaLwzkcqxP"
      }
    },
    {
      "cell_type": "code",
      "source": [
        "#Example\n",
        "file = open(\"example.txt\", \"w\")\n",
        "file.write(\"Hello, World!\")\n",
        "file.close()  # Ensures data is saved and resources are freed"
      ],
      "metadata": {
        "id": "2QTgFOeXdBp9"
      },
      "execution_count": null,
      "outputs": []
    },
    {
      "cell_type": "markdown",
      "source": [
        "Q20)What is the difference between file.read() and file.readline() in Python?"
      ],
      "metadata": {
        "id": "Ql82I4u4dNLk"
      }
    },
    {
      "cell_type": "markdown",
      "source": [
        "The difference between file.read() and file.readline() in Python is as follows:\n",
        "\n",
        "**file.read()**:\n",
        "Reads the Entire File: It reads the entire contents of the file at once.\n",
        "\n",
        "Returns a String: The data is returned as a single string (including all characters, including newlines).\n",
        "\n",
        "Use Case: Useful when you need to load the entire file into memory for processing.\n",
        "\n",
        "**file.readline()**:\n",
        "\n",
        "Reads One Line at a Time: It reads one line from the file at a time.\n",
        "\n",
        "Returns a String: Each call returns a string containing the next line, including the newline character (\\n).\n",
        "\n",
        "Use Case: Useful for processing files line by line, especially when working with large files to avoid loading the entire file into memory."
      ],
      "metadata": {
        "id": "dEY9t0eSdWva"
      }
    },
    {
      "cell_type": "markdown",
      "source": [
        "Q21)What is the logging module in Python used for?"
      ],
      "metadata": {
        "id": "G2S9H87ceYjs"
      }
    },
    {
      "cell_type": "markdown",
      "source": [
        "The logging module in Python is used for tracking events that happen during program execution.\n",
        "\n",
        "It allows developers to record important runtime information, such as errors, warnings, or general program flow, which is helpful for debugging, monitoring, and maintaining applications."
      ],
      "metadata": {
        "id": "u45dA43PexrE"
      }
    },
    {
      "cell_type": "code",
      "source": [
        "import logging\n",
        "\n",
        "# Set up logging\n",
        "logging.basicConfig(level=logging.DEBUG)\n",
        "\n",
        "# Log messages at various levels\n",
        "logging.debug(\"This is a debug message.\")\n",
        "logging.info(\"This is an info message.\")\n",
        "logging.warning(\"This is a warning message.\")\n",
        "logging.error(\"This is an error message.\")\n",
        "logging.critical(\"This is a critical message.\")\n"
      ],
      "metadata": {
        "colab": {
          "base_uri": "https://localhost:8080/"
        },
        "id": "iikMrnH3e8Nf",
        "outputId": "86020cc8-8864-4002-a736-a21fd9e70abe"
      },
      "execution_count": null,
      "outputs": [
        {
          "output_type": "stream",
          "name": "stderr",
          "text": [
            "WARNING:root:This is a warning message.\n",
            "ERROR:root:This is an error message.\n",
            "CRITICAL:root:This is a critical message.\n"
          ]
        }
      ]
    },
    {
      "cell_type": "markdown",
      "source": [
        "Q22)What is the os module in Python used for in file handling?"
      ],
      "metadata": {
        "id": "VXcDmgdRfGWj"
      }
    },
    {
      "cell_type": "markdown",
      "source": [
        "The os module in Python is a standard library module that provides functions to interact with the operating system.\n",
        "\n",
        "It is widely used in file handling for tasks such as:\n",
        "\n",
        "1)File/Directory Operations: Create, delete, rename, or list files and directories (os.mkdir(), os.remove(), os.listdir()).\n",
        "\n",
        "2)Path Handling: Manage paths, check existence, or split/join paths (os.path.join(), os.path.exists()).\n",
        "\n",
        "3)Environment Interaction: Work with environment variables and system information (os.environ, os.stat()).\n",
        "\n",
        "4)Cross-Platform Support: Handle system-specific differences like file paths."
      ],
      "metadata": {
        "id": "YN5GCsWEz0Z2"
      }
    },
    {
      "cell_type": "markdown",
      "source": [
        "Q23)What are the challenges associated with memory management in Python?"
      ],
      "metadata": {
        "id": "YYte9gZ-0iSd"
      }
    },
    {
      "cell_type": "markdown",
      "source": [
        "Challenges in Python memory management include:\n",
        "\n",
        "Garbage Collection Overhead: Cyclic garbage collection adds runtime costs.\n",
        "\n",
        "Memory Leaks: Lingering references or global variables can cause leaks.\n",
        "\n",
        "High Memory Usage: Dynamic typing and object overhead increase memory consumption.\n",
        "\n",
        "Fragmentation: Frequent allocations can fragment memory.\n",
        "\n",
        "GIL Limitations: Limits multi-threading efficiency.\n",
        "\n",
        "Handling Large Data: Large datasets can strain memory resources.\n",
        "\n",
        "Manual Cleanup: External resources (e.g., files) require explicit management."
      ],
      "metadata": {
        "id": "hU2ekhqN0pSx"
      }
    },
    {
      "cell_type": "markdown",
      "source": [
        " Q24)How do you raise an exception manually in Python?"
      ],
      "metadata": {
        "id": "tng0K-3v1LM6"
      }
    },
    {
      "cell_type": "markdown",
      "source": [
        "As a Python developer you can choose to throw an exception if a condition occurs.\n",
        "\n",
        "To throw (or raise) an exception, use the raise keyword."
      ],
      "metadata": {
        "id": "_vZSlN3k1eAk"
      }
    },
    {
      "cell_type": "code",
      "source": [
        "x = -1\n",
        "\n",
        "if x < 0:\n",
        "  raise Exception(\"Sorry, no numbers below zero\")"
      ],
      "metadata": {
        "colab": {
          "base_uri": "https://localhost:8080/",
          "height": 176
        },
        "id": "NqwI4PVZ2PFA",
        "outputId": "baede1ed-27a0-4586-dfa3-048d7ffef015"
      },
      "execution_count": null,
      "outputs": [
        {
          "output_type": "error",
          "ename": "Exception",
          "evalue": "Sorry, no numbers below zero",
          "traceback": [
            "\u001b[0;31m---------------------------------------------------------------------------\u001b[0m",
            "\u001b[0;31mException\u001b[0m                                 Traceback (most recent call last)",
            "\u001b[0;32m<ipython-input-3-2edc57024fbc>\u001b[0m in \u001b[0;36m<cell line: 3>\u001b[0;34m()\u001b[0m\n\u001b[1;32m      2\u001b[0m \u001b[0;34m\u001b[0m\u001b[0m\n\u001b[1;32m      3\u001b[0m \u001b[0;32mif\u001b[0m \u001b[0mx\u001b[0m \u001b[0;34m<\u001b[0m \u001b[0;36m0\u001b[0m\u001b[0;34m:\u001b[0m\u001b[0;34m\u001b[0m\u001b[0;34m\u001b[0m\u001b[0m\n\u001b[0;32m----> 4\u001b[0;31m   \u001b[0;32mraise\u001b[0m \u001b[0mException\u001b[0m\u001b[0;34m(\u001b[0m\u001b[0;34m\"Sorry, no numbers below zero\"\u001b[0m\u001b[0;34m)\u001b[0m\u001b[0;34m\u001b[0m\u001b[0;34m\u001b[0m\u001b[0m\n\u001b[0m",
            "\u001b[0;31mException\u001b[0m: Sorry, no numbers below zero"
          ]
        }
      ]
    },
    {
      "cell_type": "code",
      "source": [
        "x = \"hello\"\n",
        "\n",
        "if not type(x) is int:\n",
        "  raise TypeError(\"Only integers are allowed\")"
      ],
      "metadata": {
        "colab": {
          "base_uri": "https://localhost:8080/",
          "height": 176
        },
        "id": "U-yOfW8z2W0q",
        "outputId": "35415719-3ffa-419e-8573-de499aabdf9c"
      },
      "execution_count": null,
      "outputs": [
        {
          "output_type": "error",
          "ename": "TypeError",
          "evalue": "Only integers are allowed",
          "traceback": [
            "\u001b[0;31m---------------------------------------------------------------------------\u001b[0m",
            "\u001b[0;31mTypeError\u001b[0m                                 Traceback (most recent call last)",
            "\u001b[0;32m<ipython-input-4-bc91768a6271>\u001b[0m in \u001b[0;36m<cell line: 3>\u001b[0;34m()\u001b[0m\n\u001b[1;32m      2\u001b[0m \u001b[0;34m\u001b[0m\u001b[0m\n\u001b[1;32m      3\u001b[0m \u001b[0;32mif\u001b[0m \u001b[0;32mnot\u001b[0m \u001b[0mtype\u001b[0m\u001b[0;34m(\u001b[0m\u001b[0mx\u001b[0m\u001b[0;34m)\u001b[0m \u001b[0;32mis\u001b[0m \u001b[0mint\u001b[0m\u001b[0;34m:\u001b[0m\u001b[0;34m\u001b[0m\u001b[0;34m\u001b[0m\u001b[0m\n\u001b[0;32m----> 4\u001b[0;31m   \u001b[0;32mraise\u001b[0m \u001b[0mTypeError\u001b[0m\u001b[0;34m(\u001b[0m\u001b[0;34m\"Only integers are allowed\"\u001b[0m\u001b[0;34m)\u001b[0m\u001b[0;34m\u001b[0m\u001b[0;34m\u001b[0m\u001b[0m\n\u001b[0m",
            "\u001b[0;31mTypeError\u001b[0m: Only integers are allowed"
          ]
        }
      ]
    },
    {
      "cell_type": "markdown",
      "source": [
        "Q25)Why is it important to use multithreading in certain applications?"
      ],
      "metadata": {
        "id": "M5UMGjVB2sjh"
      }
    },
    {
      "cell_type": "markdown",
      "source": [
        "\n",
        "Multithreading is important because it allows programs to:\n",
        "\n",
        "Improve Performance: Handle multiple tasks concurrently, especially in I/O-bound applications.\n",
        "\n",
        "Enhance Responsiveness: Keep applications (e.g., GUIs) responsive by running tasks in the background.\n",
        "\n",
        "Enable Resource Sharing: Efficiently share memory and resources within the same process.\n",
        "\n",
        "Utilize Multicore Processors: Achieve parallelism on multicore systems.\n",
        "Scale Effectively: Divide and manage workloads for large-scale applications."
      ],
      "metadata": {
        "id": "EZb6b05e3Rlw"
      }
    },
    {
      "cell_type": "markdown",
      "source": [
        "**Practical Questions**"
      ],
      "metadata": {
        "id": "E5o0RzygEuKS"
      }
    },
    {
      "cell_type": "markdown",
      "source": [
        "Q1)How can you open a file for writing in Python and write a string to it?"
      ],
      "metadata": {
        "id": "opYXK8-b3VI9"
      }
    },
    {
      "cell_type": "markdown",
      "source": [
        "Open the file: Use open() and specify the file path and mode.\n",
        "\n",
        "The \"w\" mode opens the file for writing and overwrites the file if it already exists.\n",
        "\n",
        "If the file does not exist, it will create a new one.\n",
        "\n",
        "Write to the file: Use the write() method of the file object to write a string.\n",
        "\n",
        "Close the file: Always close the file using the close() method to ensure all data is written and resources are released."
      ],
      "metadata": {
        "id": "8xghaoLcK8n3"
      }
    },
    {
      "cell_type": "code",
      "source": [
        "# Open a file for writing\n",
        "with open(\"example.txt\", \"w\") as file:\n",
        "    # Write a string to the file\n",
        "    file.write(\"Hello, world!\")\n",
        "\n",
        "# The 'with' statement automatically closes the file.\n"
      ],
      "metadata": {
        "id": "TvbUiwUDKwAZ"
      },
      "execution_count": null,
      "outputs": []
    },
    {
      "cell_type": "markdown",
      "source": [
        "Q2)Write a Python program to read the contents of a file and print each line?"
      ],
      "metadata": {
        "id": "uUSInH_mLEq9"
      }
    },
    {
      "cell_type": "code",
      "source": [
        "# Open the file for reading\n",
        "with open(\"example.txt\", \"r\") as file:\n",
        "    # Iterate through each line in the file\n",
        "    for line in file:\n",
        "        # Print the line (strip trailing newlines for cleaner output)\n",
        "        print(line.strip())\n"
      ],
      "metadata": {
        "colab": {
          "base_uri": "https://localhost:8080/"
        },
        "id": "snW3XxwELPBa",
        "outputId": "d3bbd465-bf1e-431b-f15f-f0b08b07a1cb"
      },
      "execution_count": null,
      "outputs": [
        {
          "output_type": "stream",
          "name": "stdout",
          "text": [
            "Hello, world!\n"
          ]
        }
      ]
    },
    {
      "cell_type": "markdown",
      "source": [
        "with open(\"example.txt\", \"r\") as file:\n",
        "\n",
        "Opens the file in read mode (\"r\") and ensures it is closed automatically after the block is executed.\n",
        "\n",
        "for line in file:\n",
        "Iterates over the file object, which yields one line at a time.\n",
        "\n",
        "line.strip()\n",
        "Removes any leading/trailing whitespace or newline characters from the line before printing."
      ],
      "metadata": {
        "id": "fCYI4xX1LjPX"
      }
    },
    {
      "cell_type": "markdown",
      "source": [
        " Q3)How would you handle a case where the file doesn't exist while trying to open it for reading?"
      ],
      "metadata": {
        "id": "jHLennpwLnwm"
      }
    },
    {
      "cell_type": "markdown",
      "source": [
        "To handle a situation where the file doesn't exist, you can use a try-except block to catch the FileNotFoundError.\n",
        "\n",
        "Here's how you can do it:"
      ],
      "metadata": {
        "id": "JjYdIS7qMJIQ"
      }
    },
    {
      "cell_type": "code",
      "source": [
        "try:\n",
        "    # Attempt to open the file for reading\n",
        "    with open(\"example.txt\", \"r\") as file:\n",
        "        # Read and print each line\n",
        "        for line in file:\n",
        "            print(line.strip())\n",
        "except FileNotFoundError:\n",
        "    # Handle the error if the file doesn't exist\n",
        "    print(\"Error: The file does not exist.\")\n"
      ],
      "metadata": {
        "colab": {
          "base_uri": "https://localhost:8080/"
        },
        "id": "Fv2Lsyr8MMml",
        "outputId": "c445266c-5eee-4daa-ef1c-63e3da77a924"
      },
      "execution_count": null,
      "outputs": [
        {
          "output_type": "stream",
          "name": "stdout",
          "text": [
            "Hello, world!\n"
          ]
        }
      ]
    },
    {
      "cell_type": "markdown",
      "source": [
        "Q4)Write a Python script that reads from one file and writes its content to another file?"
      ],
      "metadata": {
        "id": "rZWTEvRaMTyM"
      }
    },
    {
      "cell_type": "code",
      "source": [
        "# Specify the source and destination file paths\n",
        "source_file = \"source.txt\"\n",
        "destination_file = \"destination.txt\"\n",
        "\n",
        "try:\n",
        "    # Open the source file for reading\n",
        "    with open(source_file, \"r\") as src:\n",
        "        # Open the destination file for writing\n",
        "        with open(destination_file, \"w\") as dest:\n",
        "            # Read from the source file and write to the destination file\n",
        "            for line in src:\n",
        "                dest.write(line)\n",
        "    print(f\"Content successfully copied from '{source_file}' to '{destination_file}'.\")\n",
        "except FileNotFoundError:\n",
        "    print(f\"Error: The file '{source_file}' does not exist.\")\n",
        "except Exception as e:\n",
        "    print(f\"An error occurred: {e}\")\n"
      ],
      "metadata": {
        "colab": {
          "base_uri": "https://localhost:8080/"
        },
        "id": "_blRKqdUMfwb",
        "outputId": "f695932d-836c-44be-a49d-1299664bdb3c"
      },
      "execution_count": null,
      "outputs": [
        {
          "output_type": "stream",
          "name": "stdout",
          "text": [
            "Error: The file 'source.txt' does not exist.\n"
          ]
        }
      ]
    },
    {
      "cell_type": "markdown",
      "source": [
        "Q5)How would you catch and handle division by zero error in Python?"
      ],
      "metadata": {
        "id": "0enQuKNBMjjS"
      }
    },
    {
      "cell_type": "markdown",
      "source": [
        "To catch and handle a division by zero error in Python, you can use a try-except block to catch the ZeroDivisionError exception.\n",
        "\n",
        "Here's how you can do it"
      ],
      "metadata": {
        "id": "lfaetSWVM0pb"
      }
    },
    {
      "cell_type": "code",
      "source": [
        "try:\n",
        "    # Attempt a division operation\n",
        "    numerator = int(input(\"Enter the numerator: \"))\n",
        "    denominator = int(input(\"Enter the denominator: \"))\n",
        "    result = numerator / denominator\n",
        "    print(f\"The result is: {result}\")\n",
        "except ZeroDivisionError:\n",
        "    # Handle division by zero error\n",
        "    print(\"Error: Division by zero is not allowed.\")\n",
        "except ValueError:\n",
        "    # Handle invalid input (non-numeric)\n",
        "    print(\"Error: Please enter valid numeric values.\")\n"
      ],
      "metadata": {
        "colab": {
          "base_uri": "https://localhost:8080/"
        },
        "id": "QgyLobR3Mqgc",
        "outputId": "bcaaf501-6c4e-44a3-ef73-de71cd635a6f"
      },
      "execution_count": null,
      "outputs": [
        {
          "output_type": "stream",
          "name": "stdout",
          "text": [
            "Enter the numerator: 2\n",
            "Enter the denominator: 4\n",
            "The result is: 0.5\n"
          ]
        }
      ]
    },
    {
      "cell_type": "markdown",
      "source": [
        "Q6)Write a Python program that logs an error message to a log file when a division by zero exception occurs?"
      ],
      "metadata": {
        "id": "pQwhzAVODCMO"
      }
    },
    {
      "cell_type": "code",
      "source": [
        "import logging\n",
        "\n",
        "# Configure logging\n",
        "logging.basicConfig(\n",
        "    filename='error_log.txt',  # Log file name\n",
        "    level=logging.ERROR,       # Log level\n",
        "    format='%(asctime)s - %(levelname)s - %(message)s'  # Log message format\n",
        ")\n",
        "\n",
        "def divide_numbers(a, b):\n",
        "    try:\n",
        "        result = a / b\n",
        "        return result\n",
        "    except ZeroDivisionError as e:\n",
        "        logging.error(\"Division by zero error: Attempted to divide %s by %s.\", a, b)\n",
        "        return None\n",
        "\n",
        "# Example usage\n",
        "if __name__ == \"__main__\":\n",
        "    num1 = 10\n",
        "    num2 = 0  # Change this to test different scenarios\n",
        "    result = divide_numbers(num1, num2)\n",
        "    if result is None:\n",
        "        print(\"An error occurred. Please check the log file for details.\")\n",
        "    else:\n",
        "        print(f\"The result is {result}\")\n"
      ],
      "metadata": {
        "colab": {
          "base_uri": "https://localhost:8080/"
        },
        "id": "kmg666QqDaEx",
        "outputId": "f15a9719-b042-4ced-b8c0-383136444bbb"
      },
      "execution_count": null,
      "outputs": [
        {
          "output_type": "stream",
          "name": "stderr",
          "text": [
            "ERROR:root:Division by zero error: Attempted to divide 10 by 0.\n"
          ]
        },
        {
          "output_type": "stream",
          "name": "stdout",
          "text": [
            "An error occurred. Please check the log file for details.\n"
          ]
        }
      ]
    },
    {
      "cell_type": "markdown",
      "source": [
        "Q7)How do you log information at different levels (INFO, ERROR, WARNING) in Python using the logging module?"
      ],
      "metadata": {
        "id": "0ap920I3DtsN"
      }
    },
    {
      "cell_type": "code",
      "source": [
        "import logging\n",
        "\n",
        "# Configure logging\n",
        "logging.basicConfig(\n",
        "    filename='app.log',     # Log file name\n",
        "    level=logging.DEBUG,    # Minimum log level to capture\n",
        "    format='%(asctime)s - %(levelname)s - %(message)s'\n",
        ")\n",
        "\n",
        "# Log messages at different levels\n",
        "logging.debug(\"Debug message: for troubleshooting.\")\n",
        "logging.info(\"Info message: for general updates.\")\n",
        "logging.warning(\"Warning message: potential issue.\")\n",
        "logging.error(\"Error message: something went wrong.\")\n",
        "logging.critical(\"Critical message: serious problem.\")\n"
      ],
      "metadata": {
        "colab": {
          "base_uri": "https://localhost:8080/"
        },
        "id": "uLwIZfu7EGtN",
        "outputId": "bc81a008-c91f-4732-b35b-1c77094d5415"
      },
      "execution_count": null,
      "outputs": [
        {
          "output_type": "stream",
          "name": "stderr",
          "text": [
            "WARNING:root:Warning message: potential issue.\n",
            "ERROR:root:Error message: something went wrong.\n",
            "CRITICAL:root:Critical message: serious problem.\n"
          ]
        }
      ]
    },
    {
      "cell_type": "markdown",
      "source": [
        "Q8)Write a program to handle a file opening error using exception handling?"
      ],
      "metadata": {
        "id": "DnUH7BXhEPdL"
      }
    },
    {
      "cell_type": "code",
      "source": [
        "def read_file(file_path):\n",
        "    try:\n",
        "        with open(file_path, 'r') as file:\n",
        "            content = file.read()\n",
        "            print(\"File content:\")\n",
        "            print(content)\n",
        "    except FileNotFoundError:\n",
        "        print(f\"Error: The file '{file_path}' was not found.\")\n",
        "    except PermissionError:\n",
        "        print(f\"Error: Permission denied to open the file '{file_path}'.\")\n",
        "    except Exception as e:\n",
        "        print(f\"An unexpected error occurred: {e}\")\n",
        "\n",
        "# Example usage\n",
        "if __name__ == \"__main__\":\n",
        "    file_path = \"example.txt\"  # Change this to a valid or invalid file path to test\n",
        "    read_file(file_path)\n"
      ],
      "metadata": {
        "colab": {
          "base_uri": "https://localhost:8080/"
        },
        "id": "E9MItnIxEfID",
        "outputId": "79dfa61e-0363-4216-9565-9988b7a5ea29"
      },
      "execution_count": null,
      "outputs": [
        {
          "output_type": "stream",
          "name": "stdout",
          "text": [
            "Error: The file 'example.txt' was not found.\n"
          ]
        }
      ]
    },
    {
      "cell_type": "markdown",
      "source": [
        "Q9)How can you read a file line by line and store its content in a list in Python?"
      ],
      "metadata": {
        "id": "vPU2T38aEqKf"
      }
    },
    {
      "cell_type": "code",
      "source": [
        "def read_file_into_list(file_path):\n",
        "    try:\n",
        "        with open(file_path, 'r') as file:\n",
        "            lines = file.readlines()  # Read all lines into a list\n",
        "        return [line.strip() for line in lines]  # Strip newline characters\n",
        "    except FileNotFoundError:\n",
        "        print(f\"Error: The file '{file_path}' was not found.\")\n",
        "        return []\n",
        "    except Exception as e:\n",
        "        print(f\"An error occurred: {e}\")\n",
        "        return []\n",
        "\n",
        "# Example usage\n",
        "file_content = read_file_into_list(\"example.txt\")\n",
        "print(file_content)\n"
      ],
      "metadata": {
        "colab": {
          "base_uri": "https://localhost:8080/"
        },
        "id": "AAaNKyyrFVQn",
        "outputId": "4d97ea8d-c882-4bea-82a6-7f0b02d4ad2b"
      },
      "execution_count": null,
      "outputs": [
        {
          "output_type": "stream",
          "name": "stdout",
          "text": [
            "Error: The file 'example.txt' was not found.\n",
            "[]\n"
          ]
        }
      ]
    },
    {
      "cell_type": "markdown",
      "source": [
        "Q10)How can you append data to an existing file in Python?"
      ],
      "metadata": {
        "id": "7RpA7fgWF2sD"
      }
    },
    {
      "cell_type": "code",
      "source": [
        "def append_to_file(file_path, data):\n",
        "    try:\n",
        "        with open(file_path, 'a') as file:\n",
        "            file.write(data + '\\n')  # Appends data with a newline\n",
        "        print(f\"Data appended to {file_path}\")\n",
        "    except Exception as e:\n",
        "        print(f\"An error occurred: {e}\")\n",
        "\n",
        "# Example usage\n",
        "append_to_file(\"example.txt\", \"This is new content.\")\n",
        "append_to_file(\"example.txt\", \"Appending another line.\")\n"
      ],
      "metadata": {
        "colab": {
          "base_uri": "https://localhost:8080/"
        },
        "id": "b2CQ2WXMGXEz",
        "outputId": "d810f712-3295-4791-c0fd-f923a2d7c29b"
      },
      "execution_count": null,
      "outputs": [
        {
          "output_type": "stream",
          "name": "stdout",
          "text": [
            "Data appended to example.txt\n",
            "Data appended to example.txt\n"
          ]
        }
      ]
    },
    {
      "cell_type": "markdown",
      "source": [
        "Q11)Write a Python program that uses a try-except block to handle an error when attempting to access a\n",
        "dictionary key that doesn't exist?"
      ],
      "metadata": {
        "id": "fg-gyP7ZGkyx"
      }
    },
    {
      "cell_type": "code",
      "source": [
        "def access_dictionary_key(dictionary, key):\n",
        "    try:\n",
        "        value = dictionary[key]\n",
        "        print(f\"Value for key '{key}': {value}\")\n",
        "    except KeyError:\n",
        "        print(f\"Error: The key '{key}' does not exist in the dictionary.\")\n",
        "    except Exception as e:\n",
        "        print(f\"An unexpected error occurred: {e}\")\n",
        "\n",
        "# Example usage\n",
        "if __name__ == \"__main__\":\n",
        "    my_dict = {\"name\": \"Alice\", \"age\": 25, \"city\": \"New York\"}\n",
        "\n",
        "    # Accessing existing key\n",
        "    access_dictionary_key(my_dict, \"name\")\n",
        "\n",
        "    # Attempting to access a non-existent key\n",
        "    access_dictionary_key(my_dict, \"country\")\n"
      ],
      "metadata": {
        "colab": {
          "base_uri": "https://localhost:8080/"
        },
        "id": "GDB-j74fGqLs",
        "outputId": "02a7cad1-c51b-4df7-e998-d333d7222cc3"
      },
      "execution_count": null,
      "outputs": [
        {
          "output_type": "stream",
          "name": "stdout",
          "text": [
            "Value for key 'name': Alice\n",
            "Error: The key 'country' does not exist in the dictionary.\n"
          ]
        }
      ]
    },
    {
      "cell_type": "markdown",
      "source": [
        "Q12)Write a program that demonstrates using multiple except blocks to handle different types of exceptions?"
      ],
      "metadata": {
        "id": "NW1I3uenG2oa"
      }
    },
    {
      "cell_type": "code",
      "source": [
        "def perform_operations(a, b):\n",
        "    try:\n",
        "        # Division operation\n",
        "        result = a / b\n",
        "        print(f\"Result of division: {result}\")\n",
        "\n",
        "        # Accessing a list element\n",
        "        my_list = [1, 2, 3]\n",
        "        print(f\"Accessing element at index {b}: {my_list[b]}\")\n",
        "    except ZeroDivisionError:\n",
        "        print(\"Error: Division by zero is not allowed.\")\n",
        "    except IndexError:\n",
        "        print(f\"Error: Index {b} is out of range for the list.\")\n",
        "    except TypeError:\n",
        "        print(\"Error: Invalid input type. Please enter numbers.\")\n",
        "    except Exception as e:\n",
        "        print(f\"An unexpected error occurred: {e}\")\n",
        "\n",
        "# Example usage\n",
        "if __name__ == \"__main__\":\n",
        "    perform_operations(10, 0)  # Triggers ZeroDivisionError\n",
        "    perform_operations(10, 5)  # Triggers IndexError\n",
        "    perform_operations(10, \"a\")  # Triggers TypeError\n"
      ],
      "metadata": {
        "colab": {
          "base_uri": "https://localhost:8080/"
        },
        "id": "QpyTphBIHbw5",
        "outputId": "3d5fe966-a17f-4f41-fcf8-0d404985d946"
      },
      "execution_count": null,
      "outputs": [
        {
          "output_type": "stream",
          "name": "stdout",
          "text": [
            "Error: Division by zero is not allowed.\n",
            "Result of division: 2.0\n",
            "Error: Index 5 is out of range for the list.\n",
            "Error: Invalid input type. Please enter numbers.\n"
          ]
        }
      ]
    },
    {
      "cell_type": "markdown",
      "source": [
        "Q13)How would you check if a file exists before attempting to read it in Python?"
      ],
      "metadata": {
        "id": "stLL2TbsHgnl"
      }
    },
    {
      "cell_type": "code",
      "source": [
        "#Using os.path.exists()\n",
        "import os\n",
        "\n",
        "file_path = \"example.txt\"\n",
        "\n",
        "if os.path.exists(file_path):\n",
        "    with open(file_path, 'r') as file:\n",
        "        content = file.read()\n",
        "        print(\"File content:\")\n",
        "        print(content)\n",
        "else:\n",
        "    print(f\"Error: The file '{file_path}' does not exist.\")\n"
      ],
      "metadata": {
        "colab": {
          "base_uri": "https://localhost:8080/"
        },
        "id": "OscwwrNNHwui",
        "outputId": "7c565943-7570-4bde-814d-0c74e3d0dce3"
      },
      "execution_count": null,
      "outputs": [
        {
          "output_type": "stream",
          "name": "stdout",
          "text": [
            "File content:\n",
            "This is new content.\n",
            "Appending another line.\n",
            "\n"
          ]
        }
      ]
    },
    {
      "cell_type": "code",
      "source": [
        "#Using pathlib.Path.exists()\n",
        "from pathlib import Path\n",
        "\n",
        "file_path = Path(\"example.txt\")\n",
        "\n",
        "if file_path.exists():\n",
        "    with file_path.open('r') as file:\n",
        "        content = file.read()\n",
        "        print(\"File content:\")\n",
        "        print(content)\n",
        "else:\n",
        "    print(f\"Error: The file '{file_path}' does not exist.\")\n"
      ],
      "metadata": {
        "colab": {
          "base_uri": "https://localhost:8080/"
        },
        "id": "WO2-IPZCH94m",
        "outputId": "9eba16f8-c46d-45f0-a422-7a9820bada26"
      },
      "execution_count": null,
      "outputs": [
        {
          "output_type": "stream",
          "name": "stdout",
          "text": [
            "File content:\n",
            "This is new content.\n",
            "Appending another line.\n",
            "\n"
          ]
        }
      ]
    },
    {
      "cell_type": "markdown",
      "source": [
        "Q14)Write a program that uses the logging module to log both informational and error messages?"
      ],
      "metadata": {
        "id": "t7CPULmwIJtI"
      }
    },
    {
      "cell_type": "code",
      "source": [
        "import logging\n",
        "\n",
        "# Configure the logging module\n",
        "logging.basicConfig(\n",
        "    filename='app.log',  # Log file name\n",
        "    level=logging.DEBUG,  # Capture all levels of logs from DEBUG and above\n",
        "    format='%(asctime)s - %(levelname)s - %(message)s'  # Log message format\n",
        ")\n",
        "\n",
        "# Log an informational message\n",
        "logging.info(\"This is an informational message.\")\n",
        "\n",
        "# Log an error message\n",
        "logging.error(\"This is an error message.\")\n",
        "\n",
        "# Example of a function with logging\n",
        "def perform_operations(a, b):\n",
        "    try:\n",
        "        logging.info(f\"Attempting to divide {a} by {b}.\")\n",
        "        result = a / b\n",
        "        logging.info(f\"Result of division: {result}\")\n",
        "    except ZeroDivisionError:\n",
        "        logging.error(f\"Error: Division by zero while attempting to divide {a} by {b}.\")\n",
        "\n",
        "# Example usage\n",
        "perform_operations(10, 2)  # This will succeed\n",
        "perform_operations(10, 0)  # This will raise an error\n"
      ],
      "metadata": {
        "colab": {
          "base_uri": "https://localhost:8080/"
        },
        "id": "lOO0O81hIa9X",
        "outputId": "523cc7ad-6ccf-48af-c38a-2ebc0c6bf475"
      },
      "execution_count": null,
      "outputs": [
        {
          "output_type": "stream",
          "name": "stderr",
          "text": [
            "ERROR:root:This is an error message.\n",
            "ERROR:root:Error: Division by zero while attempting to divide 10 by 0.\n"
          ]
        }
      ]
    },
    {
      "cell_type": "markdown",
      "source": [
        "Q15)Write a Python program that prints the content of a file and handles the case when the file is empty?"
      ],
      "metadata": {
        "id": "q3diaPHlIrQn"
      }
    },
    {
      "cell_type": "code",
      "source": [
        "def read_file(file_path):\n",
        "    try:\n",
        "        with open(file_path, 'r') as file:\n",
        "            content = file.read()\n",
        "            if content:  # Check if the file is not empty\n",
        "                print(\"File content:\")\n",
        "                print(content)\n",
        "            else:\n",
        "                print(\"The file is empty.\")\n",
        "    except FileNotFoundError:\n",
        "        print(f\"Error: The file '{file_path}' does not exist.\")\n",
        "    except Exception as e:\n",
        "        print(f\"An unexpected error occurred: {e}\")\n",
        "\n",
        "# Example usage\n",
        "file_path = \"example.txt\"  # Change to the path of the file you want to check\n",
        "read_file(file_path)\n"
      ],
      "metadata": {
        "colab": {
          "base_uri": "https://localhost:8080/"
        },
        "id": "leVEds8DI_FP",
        "outputId": "491a96a4-285c-4abb-d0b8-7918896aaa1d"
      },
      "execution_count": null,
      "outputs": [
        {
          "output_type": "stream",
          "name": "stdout",
          "text": [
            "File content:\n",
            "This is new content.\n",
            "Appending another line.\n",
            "\n"
          ]
        }
      ]
    },
    {
      "cell_type": "markdown",
      "source": [
        " Q16)Demonstrate how to use memory profiling to check the memory usage of a small program?"
      ],
      "metadata": {
        "id": "NKDfU32HJFP7"
      }
    },
    {
      "cell_type": "markdown",
      "source": [
        "Memory profiling is useful for checking how much memory your program uses at runtime, identifying memory leaks, and optimizing performance.\n",
        "\n",
        "Here a simple demonstration using Python:"
      ],
      "metadata": {
        "id": "FMIjddAcU0uW"
      }
    },
    {
      "cell_type": "code",
      "source": [
        "# function to demonstrate memory usage\n",
        "import psutil\n",
        "import os\n",
        "\n",
        "def memory_usage():\n",
        "    process = psutil.Process(os.getpid())\n",
        "    return process.memory_info().rss / 10**6  # Memory in MB\n",
        "\n",
        "print(f\"Memory usage at start: {memory_usage():.2f} MB\")\n",
        "data = [i ** 2 for i in range(100000)]\n",
        "print(f\"Memory usage after allocation: {memory_usage():.2f} MB\")\n"
      ],
      "metadata": {
        "id": "vuEhD7BcVFfH",
        "colab": {
          "base_uri": "https://localhost:8080/"
        },
        "outputId": "7fc17962-fae2-44e0-e490-f3deec1dac1e"
      },
      "execution_count": null,
      "outputs": [
        {
          "output_type": "stream",
          "name": "stdout",
          "text": [
            "Memory usage at start: 121.69 MB\n",
            "Memory usage after allocation: 121.69 MB\n"
          ]
        }
      ]
    },
    {
      "cell_type": "markdown",
      "source": [
        "Q17)Write a Python program to create and write a list of numbers to a file, one number per line?"
      ],
      "metadata": {
        "id": "PNRYQhYzzbit"
      }
    },
    {
      "cell_type": "code",
      "source": [
        "def write_numbers_to_file(filename, numbers):\n",
        "    \"\"\"\n",
        "    Write a list of numbers to a file, one number per line.\n",
        "    \"\"\"\n",
        "    with open(filename, 'w') as file:\n",
        "        for number in numbers:\n",
        "            file.write(f\"{number}\\n\")\n",
        "\n",
        "\n",
        "# Example usage\n",
        "if __name__ == \"__main__\":\n",
        "    numbers = list(range(1, 21))  # A list of numbers from 1 to 20\n",
        "    filename = \"numbers.txt\"  # Output file name\n",
        "    write_numbers_to_file(filename, numbers)\n",
        "    print(f\"Numbers written to {filename}\")\n"
      ],
      "metadata": {
        "colab": {
          "base_uri": "https://localhost:8080/"
        },
        "id": "KJWekTLXznyn",
        "outputId": "142c52ce-99ab-48b1-8d56-d557a694d293"
      },
      "execution_count": null,
      "outputs": [
        {
          "output_type": "stream",
          "name": "stdout",
          "text": [
            "Numbers written to numbers.txt\n"
          ]
        }
      ]
    },
    {
      "cell_type": "markdown",
      "source": [
        "Q18)How would you implement a basic logging setup that logs to a file with rotation after 1MB?"
      ],
      "metadata": {
        "id": "lOGRB8CTzqcu"
      }
    },
    {
      "cell_type": "code",
      "source": [
        "import logging\n",
        "from logging.handlers import RotatingFileHandler\n",
        "\n",
        "# Set up the logger\n",
        "handler = RotatingFileHandler(\"logfile.log\", maxBytes=1_000, backupCount=3)\n",
        "logger = logging.getLogger(\"SimpleLogger\")\n",
        "logger.setLevel(logging.DEBUG)\n",
        "logger.addHandler(handler)\n",
        "\n",
        "# Log messages\n",
        "for i in range(10):\n",
        "    logger.debug(f\"Log message {i}\")\n"
      ],
      "metadata": {
        "colab": {
          "base_uri": "https://localhost:8080/"
        },
        "id": "AtTIPGi3z4tI",
        "outputId": "7517a1eb-c3d0-4b65-94c3-cd3827c8e090"
      },
      "execution_count": null,
      "outputs": [
        {
          "output_type": "stream",
          "name": "stderr",
          "text": [
            "DEBUG:SimpleLogger:Log message 0\n",
            "DEBUG:SimpleLogger:Log message 1\n",
            "DEBUG:SimpleLogger:Log message 2\n",
            "DEBUG:SimpleLogger:Log message 3\n",
            "DEBUG:SimpleLogger:Log message 4\n",
            "DEBUG:SimpleLogger:Log message 5\n",
            "DEBUG:SimpleLogger:Log message 6\n",
            "DEBUG:SimpleLogger:Log message 7\n",
            "DEBUG:SimpleLogger:Log message 8\n",
            "DEBUG:SimpleLogger:Log message 9\n"
          ]
        }
      ]
    },
    {
      "cell_type": "markdown",
      "source": [
        "Q19)Write a program that handles both IndexError and KeyError using a try-except block?"
      ],
      "metadata": {
        "id": "gEOEEzo30jQJ"
      }
    },
    {
      "cell_type": "code",
      "source": [
        "def handle_exceptions():\n",
        "    \"\"\"\n",
        "    Demonstrates handling IndexError and KeyError.\n",
        "    \"\"\"\n",
        "    try:\n",
        "        # Trigger an IndexError\n",
        "        my_list = [1, 2, 3]\n",
        "        print(f\"Accessing element: {my_list[5]}\")  # Out of range index\n",
        "\n",
        "        # Trigger a KeyError\n",
        "        my_dict = {\"a\": 1, \"b\": 2}\n",
        "        print(f\"Accessing value: {my_dict['z']}\")  # Non-existent key\n",
        "\n",
        "    except IndexError as e:\n",
        "        print(f\"IndexError caught: {e}\")\n",
        "\n",
        "    except KeyError as e:\n",
        "        print(f\"KeyError caught: {e}\")\n",
        "\n",
        "if __name__ == \"__main__\":\n",
        "    handle_exceptions()\n"
      ],
      "metadata": {
        "colab": {
          "base_uri": "https://localhost:8080/"
        },
        "id": "vwVkM_sD0xO7",
        "outputId": "67b6d2b5-092e-4050-85cd-432f6eea2c3e"
      },
      "execution_count": null,
      "outputs": [
        {
          "output_type": "stream",
          "name": "stdout",
          "text": [
            "IndexError caught: list index out of range\n"
          ]
        }
      ]
    },
    {
      "cell_type": "markdown",
      "source": [
        "Q20)How would you open a file and read its contents using a context manager in Python?"
      ],
      "metadata": {
        "id": "genE-Qau0zlu"
      }
    },
    {
      "cell_type": "code",
      "source": [
        "def read_file(file_path):\n",
        "    \"\"\"\n",
        "    Opens a file and reads its contents using a context manager.\n",
        "    \"\"\"\n",
        "    try:\n",
        "        with open(file_path, 'r') as file:  # Open the file in read mode\n",
        "            contents = file.read()  # Read the entire content of the file\n",
        "            return contents\n",
        "    except FileNotFoundError:\n",
        "        return f\"Error: The file '{file_path}' was not found.\"\n",
        "    except Exception as e:\n",
        "        return f\"An unexpected error occurred: {e}\"\n",
        "\n",
        "# Example usage\n",
        "if __name__ == \"__main__\":\n",
        "    file_path = \"example.txt\"  # Replace with your file path\n",
        "    result = read_file(file_path)\n",
        "    print(result)\n"
      ],
      "metadata": {
        "colab": {
          "base_uri": "https://localhost:8080/"
        },
        "id": "N0Tyuqup1LyT",
        "outputId": "15dbc623-a0a5-49c3-8dd8-c768d8ce62e6"
      },
      "execution_count": null,
      "outputs": [
        {
          "output_type": "stream",
          "name": "stdout",
          "text": [
            "Error: The file 'example.txt' was not found.\n"
          ]
        }
      ]
    },
    {
      "cell_type": "markdown",
      "source": [
        "Q21)Write a Python program that reads a file and prints the number of occurrences of a specific word?"
      ],
      "metadata": {
        "id": "WkHCyZVE1N6f"
      }
    },
    {
      "cell_type": "code",
      "source": [
        "def count_word_occurrences(file_path, target_word):\n",
        "    \"\"\"\n",
        "    Counts the number of occurrences of a specific word in a file.\n",
        "\n",
        "    :param file_path: Path to the file\n",
        "    :param target_word: The word to count\n",
        "    :return: Number of occurrences\n",
        "    \"\"\"\n",
        "    try:\n",
        "        with open(file_path, 'r') as file:\n",
        "            contents = file.read()  # Read the entire file content\n",
        "            # Count occurrences of the word (case-insensitive)\n",
        "            word_count = contents.lower().split().count(target_word.lower())\n",
        "            return word_count\n",
        "    except FileNotFoundError:\n",
        "        print(f\"Error: The file '{file_path}' was not found.\")\n",
        "    except Exception as e:\n",
        "        print(f\"An unexpected error occurred: {e}\")\n",
        "\n",
        "# Example usage\n",
        "if __name__ == \"__main__\":\n",
        "    file_path = \"example.txt\"  # Replace with your file path\n",
        "    target_word = \"sample\"     # Replace with the word you want to count\n",
        "    count = count_word_occurrences(file_path, target_word)\n",
        "    if count is not None:\n",
        "        print(f\"The word '{target_word}' appears {count} times in the file.\")\n"
      ],
      "metadata": {
        "colab": {
          "base_uri": "https://localhost:8080/"
        },
        "id": "i0LpZ3Sn1Web",
        "outputId": "cdbcdacc-983b-4537-d5a2-f2c4d3613846"
      },
      "execution_count": null,
      "outputs": [
        {
          "output_type": "stream",
          "name": "stdout",
          "text": [
            "Error: The file 'example.txt' was not found.\n"
          ]
        }
      ]
    },
    {
      "cell_type": "markdown",
      "source": [
        "Q22)How can you check if a file is empty before attempting to read its contents?"
      ],
      "metadata": {
        "id": "7nKCUU8M1Zgm"
      }
    },
    {
      "cell_type": "code",
      "source": [
        "def is_file_empty(file_path):\n",
        "\n",
        "    try:\n",
        "        with open(file_path, 'rb') as file:  # Open the file in binary mode\n",
        "            return file.read(1) == b''  # Read the first byte and check if it's empty\n",
        "    except FileNotFoundError:\n",
        "        print(f\"Error: The file '{file_path}' does not exist.\")\n",
        "        return True\n",
        "    except Exception as e:\n",
        "        print(f\"An unexpected error occurred: {e}\")\n",
        "        return True\n",
        "\n",
        "# Example usage\n",
        "file_path = \"example.txt\"\n",
        "if is_file_empty(file_path):\n",
        "    print(f\"The file '{file_path}' is empty.\")\n",
        "else:\n",
        "    print(f\"The file '{file_path}' is not empty.\")\n"
      ],
      "metadata": {
        "colab": {
          "base_uri": "https://localhost:8080/"
        },
        "id": "LzZ_2Nzn1s-g",
        "outputId": "8e076889-55b9-40f9-949c-fe90b18c9c69"
      },
      "execution_count": null,
      "outputs": [
        {
          "output_type": "stream",
          "name": "stdout",
          "text": [
            "Error: The file 'example.txt' does not exist.\n",
            "The file 'example.txt' is empty.\n"
          ]
        }
      ]
    },
    {
      "cell_type": "markdown",
      "source": [
        "Q23)Write a Python program that writes to a log file when an error occurs during file handling?"
      ],
      "metadata": {
        "id": "mVoWILci11fe"
      }
    },
    {
      "cell_type": "code",
      "source": [
        "import logging\n",
        "\n",
        "# Set up logging configuration\n",
        "logging.basicConfig(\n",
        "    filename=\"file_errors.log\",  # Log file name\n",
        "    level=logging.ERROR,         # Log only ERROR and higher levels\n",
        "    format=\"%(asctime)s - %(levelname)s - %(message)s\"  # Log format\n",
        ")\n",
        "\n",
        "def read_file(file_path):\n",
        "\n",
        "    try:\n",
        "        with open(file_path, 'r') as file:\n",
        "            content = file.read()\n",
        "            print(content)  # Print the file content\n",
        "    except FileNotFoundError:\n",
        "        logging.error(f\"FileNotFoundError: The file '{file_path}' does not exist.\")\n",
        "        print(f\"Error: The file '{file_path}' does not exist.\")\n",
        "    except PermissionError:\n",
        "        logging.error(f\"PermissionError: Permission denied for file '{file_path}'.\")\n",
        "        print(f\"Error: Permission denied for file '{file_path}'.\")\n",
        "    except Exception as e:\n",
        "        logging.error(f\"Unexpected error: {e}\")\n",
        "        print(f\"An unexpected error occurred: {e}\")\n",
        "\n",
        "# Example usage\n",
        "if __name__ == \"__main__\":\n",
        "    file_path = \"example.txt\"  # Replace with the file you want to test\n",
        "    read_file(file_path)\n"
      ],
      "metadata": {
        "colab": {
          "base_uri": "https://localhost:8080/"
        },
        "id": "V3OZrKXC2A5g",
        "outputId": "b9566d8f-b7e4-44a3-f7c7-a55c3cd24bcc"
      },
      "execution_count": null,
      "outputs": [
        {
          "output_type": "stream",
          "name": "stderr",
          "text": [
            "ERROR:root:FileNotFoundError: The file 'example.txt' does not exist.\n"
          ]
        },
        {
          "output_type": "stream",
          "name": "stdout",
          "text": [
            "Error: The file 'example.txt' does not exist.\n"
          ]
        }
      ]
    }
  ]
}